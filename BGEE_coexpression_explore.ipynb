{
 "cells": [
  {
   "cell_type": "code",
   "execution_count": null,
   "metadata": {
    "collapsed": true
   },
   "outputs": [],
   "source": []
  },
  {
   "cell_type": "markdown",
   "metadata": {},
   "source": [
    "   mkdir bgee_coexpression  \n",
    "   cd bgee_coexpression  \n",
    "   wget ftp://ftp.bgee.org/current/download/calls/expr_calls/Homo_sapiens_expr_simple.tsv.zip  \n",
    "   unzip Homo_sapiens_expr_simple.tsv.zip "
   ]
  },
  {
   "cell_type": "code",
   "execution_count": 2,
   "metadata": {},
   "outputs": [
    {
     "name": "stdout",
     "output_type": "stream",
     "text": [
      "bar\n",
      "bgee_coexp_network_gold.yaml\n",
      "bgee_coexp_network.yaml\n",
      "BGEE_coexpression_explore.ipynb\n",
      "BGEE_coexpression_generate.ipynb\n",
      "bgee_concordance.txt\n",
      "bgee_gene_symbol_gold.txt\n",
      "bgee_gene_symbol.txt\n",
      "bgee_rank_degree.txt\n",
      "ensgid_symbol_hgnc.yaml\n",
      "ensg_ncbi.yaml\n",
      "FA_1_core_complex.txt\n",
      "FA_2_effector_proteins.txt\n",
      "FA_3_associated_proteins.txt\n",
      "foo\n",
      "gene_gene_association.gv\n",
      "gene_gene_association.gv~\n",
      "gene_tissue_curve_first.yaml\n",
      "gene_tissue_curve.yaml\n",
      "gold_rank.txt\n",
      "HGNC_nomenclature_update.ipynb\n",
      "Homo_sapiens_expr_gold.tsv\n",
      "Homo_sapiens_expr_simple.tsv\n",
      "\u001b[0m\u001b[01;31mHomo_sapiens_expr_simple.tsv.zip\u001b[0m\n",
      "ncbi_symbol_hgnc.yaml\n",
      "target_gene_symbol.txt\n",
      "\u001b[01;35mtissue_count_gold.png\u001b[0m\n",
      "tissue_count_gold.tab\n",
      "\u001b[01;35mtissue_count.png\u001b[0m\n",
      "tissue_count.tab\n",
      "uberon.owl\n"
     ]
    },
    {
     "ename": "",
     "evalue": "1",
     "output_type": "error",
     "traceback": []
    }
   ],
   "source": [
    "! ls -1"
   ]
  },
  {
   "cell_type": "code",
   "execution_count": 3,
   "metadata": {},
   "outputs": [
    {
     "name": "stdout",
     "output_type": "stream",
     "text": [
      "\u001b[32m\u001b[K1\u001b[m\u001b[K\u001b[36m\u001b[K:\u001b[m\u001b[K\u001b[01;31m\u001b[KG\u001b[m\u001b[K\u001b[01;31m\u001b[Ke\u001b[m\u001b[K\u001b[01;31m\u001b[Kn\u001b[m\u001b[K\u001b[01;31m\u001b[Ke\u001b[m\u001b[K\u001b[01;31m\u001b[K \u001b[m\u001b[K\u001b[01;31m\u001b[KI\u001b[m\u001b[K\u001b[01;31m\u001b[KD\u001b[m\u001b[K\n",
      "\u001b[32m\u001b[K2\u001b[m\u001b[K\u001b[36m\u001b[K:\u001b[m\u001b[K\u001b[01;31m\u001b[K\"\u001b[m\u001b[K\u001b[01;31m\u001b[KG\u001b[m\u001b[K\u001b[01;31m\u001b[Ke\u001b[m\u001b[K\u001b[01;31m\u001b[Kn\u001b[m\u001b[K\u001b[01;31m\u001b[Ke\u001b[m\u001b[K\u001b[01;31m\u001b[K \u001b[m\u001b[K\u001b[01;31m\u001b[Kn\u001b[m\u001b[K\u001b[01;31m\u001b[Ka\u001b[m\u001b[K\u001b[01;31m\u001b[Km\u001b[m\u001b[K\u001b[01;31m\u001b[Ke\u001b[m\u001b[K\u001b[01;31m\u001b[K\"\u001b[m\u001b[K\n",
      "\u001b[32m\u001b[K3\u001b[m\u001b[K\u001b[36m\u001b[K:\u001b[m\u001b[K\u001b[01;31m\u001b[KA\u001b[m\u001b[K\u001b[01;31m\u001b[Kn\u001b[m\u001b[K\u001b[01;31m\u001b[Ka\u001b[m\u001b[K\u001b[01;31m\u001b[Kt\u001b[m\u001b[K\u001b[01;31m\u001b[Ko\u001b[m\u001b[K\u001b[01;31m\u001b[Km\u001b[m\u001b[K\u001b[01;31m\u001b[Ki\u001b[m\u001b[K\u001b[01;31m\u001b[Kc\u001b[m\u001b[K\u001b[01;31m\u001b[Ka\u001b[m\u001b[K\u001b[01;31m\u001b[Kl\u001b[m\u001b[K\u001b[01;31m\u001b[K \u001b[m\u001b[K\u001b[01;31m\u001b[Ke\u001b[m\u001b[K\u001b[01;31m\u001b[Kn\u001b[m\u001b[K\u001b[01;31m\u001b[Kt\u001b[m\u001b[K\u001b[01;31m\u001b[Ki\u001b[m\u001b[K\u001b[01;31m\u001b[Kt\u001b[m\u001b[K\u001b[01;31m\u001b[Ky\u001b[m\u001b[K\u001b[01;31m\u001b[K \u001b[m\u001b[K\u001b[01;31m\u001b[KI\u001b[m\u001b[K\u001b[01;31m\u001b[KD\u001b[m\u001b[K\n",
      "\u001b[32m\u001b[K4\u001b[m\u001b[K\u001b[36m\u001b[K:\u001b[m\u001b[K\u001b[01;31m\u001b[K\"\u001b[m\u001b[K\u001b[01;31m\u001b[KA\u001b[m\u001b[K\u001b[01;31m\u001b[Kn\u001b[m\u001b[K\u001b[01;31m\u001b[Ka\u001b[m\u001b[K\u001b[01;31m\u001b[Kt\u001b[m\u001b[K\u001b[01;31m\u001b[Ko\u001b[m\u001b[K\u001b[01;31m\u001b[Km\u001b[m\u001b[K\u001b[01;31m\u001b[Ki\u001b[m\u001b[K\u001b[01;31m\u001b[Kc\u001b[m\u001b[K\u001b[01;31m\u001b[Ka\u001b[m\u001b[K\u001b[01;31m\u001b[Kl\u001b[m\u001b[K\u001b[01;31m\u001b[K \u001b[m\u001b[K\u001b[01;31m\u001b[Ke\u001b[m\u001b[K\u001b[01;31m\u001b[Kn\u001b[m\u001b[K\u001b[01;31m\u001b[Kt\u001b[m\u001b[K\u001b[01;31m\u001b[Ki\u001b[m\u001b[K\u001b[01;31m\u001b[Kt\u001b[m\u001b[K\u001b[01;31m\u001b[Ky\u001b[m\u001b[K\u001b[01;31m\u001b[K \u001b[m\u001b[K\u001b[01;31m\u001b[Kn\u001b[m\u001b[K\u001b[01;31m\u001b[Ka\u001b[m\u001b[K\u001b[01;31m\u001b[Km\u001b[m\u001b[K\u001b[01;31m\u001b[Ke\u001b[m\u001b[K\u001b[01;31m\u001b[K\"\u001b[m\u001b[K\n",
      "\u001b[32m\u001b[K5\u001b[m\u001b[K\u001b[36m\u001b[K:\u001b[m\u001b[K\u001b[01;31m\u001b[KE\u001b[m\u001b[K\u001b[01;31m\u001b[Kx\u001b[m\u001b[K\u001b[01;31m\u001b[Kp\u001b[m\u001b[K\u001b[01;31m\u001b[Kr\u001b[m\u001b[K\u001b[01;31m\u001b[Ke\u001b[m\u001b[K\u001b[01;31m\u001b[Ks\u001b[m\u001b[K\u001b[01;31m\u001b[Ks\u001b[m\u001b[K\u001b[01;31m\u001b[Ki\u001b[m\u001b[K\u001b[01;31m\u001b[Ko\u001b[m\u001b[K\u001b[01;31m\u001b[Kn\u001b[m\u001b[K\n",
      "\u001b[32m\u001b[K6\u001b[m\u001b[K\u001b[36m\u001b[K:\u001b[m\u001b[K\u001b[01;31m\u001b[KC\u001b[m\u001b[K\u001b[01;31m\u001b[Ka\u001b[m\u001b[K\u001b[01;31m\u001b[Kl\u001b[m\u001b[K\u001b[01;31m\u001b[Kl\u001b[m\u001b[K\u001b[01;31m\u001b[K \u001b[m\u001b[K\u001b[01;31m\u001b[Kq\u001b[m\u001b[K\u001b[01;31m\u001b[Ku\u001b[m\u001b[K\u001b[01;31m\u001b[Ka\u001b[m\u001b[K\u001b[01;31m\u001b[Kl\u001b[m\u001b[K\u001b[01;31m\u001b[Ki\u001b[m\u001b[K\u001b[01;31m\u001b[Kt\u001b[m\u001b[K\u001b[01;31m\u001b[Ky\u001b[m\u001b[K\n",
      "\u001b[32m\u001b[K7\u001b[m\u001b[K\u001b[36m\u001b[K:\u001b[m\u001b[K\u001b[01;31m\u001b[KE\u001b[m\u001b[K\u001b[01;31m\u001b[Kx\u001b[m\u001b[K\u001b[01;31m\u001b[Kp\u001b[m\u001b[K\u001b[01;31m\u001b[Kr\u001b[m\u001b[K\u001b[01;31m\u001b[Ke\u001b[m\u001b[K\u001b[01;31m\u001b[Ks\u001b[m\u001b[K\u001b[01;31m\u001b[Ks\u001b[m\u001b[K\u001b[01;31m\u001b[Ki\u001b[m\u001b[K\u001b[01;31m\u001b[Ko\u001b[m\u001b[K\u001b[01;31m\u001b[Kn\u001b[m\u001b[K\u001b[01;31m\u001b[K \u001b[m\u001b[K\u001b[01;31m\u001b[Kr\u001b[m\u001b[K\u001b[01;31m\u001b[Ka\u001b[m\u001b[K\u001b[01;31m\u001b[Kn\u001b[m\u001b[K\u001b[01;31m\u001b[Kk\u001b[m\u001b[K\n"
     ]
    }
   ],
   "source": [
    "head -1 Homo_sapiens_expr_simple.tsv | tr '\\t' '\\n' | grep -n ."
   ]
  },
  {
   "cell_type": "code",
   "execution_count": 4,
   "metadata": {},
   "outputs": [
    {
     "name": "stdout",
     "output_type": "stream",
     "text": [
      "      1 Call quality\n",
      " 124978 bronze quality\n",
      "2921827 gold quality\n",
      "5837817 silver quality\n"
     ]
    }
   ],
   "source": [
    "# we  have a three tier quality meteric\n",
    "cut -f6 Homo_sapiens_expr_simple.tsv | sort | uniq -c | sort -n"
   ]
  },
  {
   "cell_type": "markdown",
   "metadata": {},
   "source": [
    "Keeping all resulted in too many edges to be useful.  \n",
    "redoing with just gold quality"
   ]
  },
  {
   "cell_type": "code",
   "execution_count": 7,
   "metadata": {},
   "outputs": [],
   "source": [
    "grep 'present.*gold quality' Homo_sapiens_expr_simple.tsv > Homo_sapiens_expr_gold_present.tsv"
   ]
  },
  {
   "cell_type": "code",
   "execution_count": 8,
   "metadata": {},
   "outputs": [
    {
     "name": "stdout",
     "output_type": "stream",
     "text": [
      "1909771\n"
     ]
    }
   ],
   "source": [
    "# how many rows\n",
    "wc -l < Homo_sapiens_expr_gold_present.tsv"
   ]
  },
  {
   "cell_type": "code",
   "execution_count": 9,
   "metadata": {},
   "outputs": [
    {
     "name": "stdout",
     "output_type": "stream",
     "text": [
      "55196\n"
     ]
    }
   ],
   "source": [
    "# how many gene identifiers?\n",
    "cut -f1 Homo_sapiens_expr_gold_present.tsv | sort -u | wc -l"
   ]
  },
  {
   "cell_type": "code",
   "execution_count": 10,
   "metadata": {},
   "outputs": [
    {
     "name": "stdout",
     "output_type": "stream",
     "text": [
      "53481\n"
     ]
    }
   ],
   "source": [
    "# how many gene symbols?\n",
    "cut -f2 Homo_sapiens_expr_gold_present.tsv | sort -u | wc -l"
   ]
  },
  {
   "cell_type": "markdown",
   "metadata": {},
   "source": [
    "That is alot of gene ids & names,  \n",
    "many more than _could_ have informative nomenclature  \n",
    "\n",
    "note: not dealing with collapsing Ensembl id into \"genes\" here"
   ]
  },
  {
   "cell_type": "code",
   "execution_count": 11,
   "metadata": {},
   "outputs": [
    {
     "name": "stdout",
     "output_type": "stream",
     "text": [
      "161\n"
     ]
    }
   ],
   "source": [
    "# how many tissues?\n",
    "cut -f3 Homo_sapiens_expr_gold_present.tsv | sort -u | wc -l"
   ]
  },
  {
   "cell_type": "markdown",
   "metadata": {},
   "source": [
    "all is quality present & ansent is 312 tissues \n",
    "just gold quality is 217 tissues   \n",
    "just gold and only present is 161 tissues \n",
    "\n",
    "#### for gold present it is  \n",
    "55,196 * 161 == 8,886,556 possible  \n",
    "                1,909,771 actual   \n",
    "\n",
    "#### for gold it is  \n",
    "59,154 * 217 = 12,836,418 possible  \n",
    "               2,921,827 actual  \n",
    "               \n",
    "#### for all it is \n",
    "\n",
    "If every gene is checked for in every tissue  we will see  \n",
    "59172 * 312 == 18,461,664  tissue-gene measurements\n",
    "but we only see 8,884,623  rows   \n",
    "so less than half gene-tissue combinations possible could be reported. "
   ]
  },
  {
   "cell_type": "code",
   "execution_count": 12,
   "metadata": {},
   "outputs": [
    {
     "name": "stdout",
     "output_type": "stream",
     "text": [
      "1880358 UBERON\n",
      "  29413 CL\n"
     ]
    }
   ],
   "source": [
    "cut -f3 Homo_sapiens_expr_gold_present.tsv | cut -f1 -d ':' |sort |uniq -c | sort -nr "
   ]
  },
  {
   "cell_type": "code",
   "execution_count": 13,
   "metadata": {},
   "outputs": [
    {
     "name": "stdout",
     "output_type": "stream",
     "text": [
      "8649326 UBERON\n",
      " 235296 CL\n",
      "      1 Anatomical entity ID\n"
     ]
    }
   ],
   "source": [
    "# tissue is ontology terms (yea!).\n",
    "cut -f3 Homo_sapiens_expr_simple.tsv | cut -f1 -d ':' |sort |uniq -c | sort -nr "
   ]
  },
  {
   "cell_type": "markdown",
   "metadata": {},
   "source": [
    "This makes for very interesting \"future directions\" where gene expression profiles\n",
    "can be scored at various granularities based on anatomical windows, \n",
    "(if it turns out to be feasable)   \n",
    "there are 312 tissue terms represented, "
   ]
  },
  {
   "cell_type": "code",
   "execution_count": 15,
   "metadata": {
    "collapsed": true
   },
   "outputs": [],
   "source": [
    "cut -f3 Homo_sapiens_expr_gold_present.tsv | sort | uniq -c | sort -nr| awk '{print $1 \"\\t\" $2}'  > tissue_count_gold_present.tab"
   ]
  },
  {
   "cell_type": "code",
   "execution_count": null,
   "metadata": {
    "collapsed": true
   },
   "outputs": [],
   "source": [
    "# gnuplot  -p -e 'plot \"tissue_count_gold_present.tab\" using 1'"
   ]
  },
  {
   "cell_type": "markdown",
   "metadata": {},
   "source": [
    "how much coverage do they get?  \n",
    "\n",
    "![tissue_count](tissue_count.png)  \n",
    " \n",
    "#### for all \n",
    " the first ~ hundred @60000 are well covered and can be left alone,   \n",
    "the later parts could possibly use some ontological binning,  \n",
    "if it leads to fewer tissues recorded for more genes.  \n",
    "\n",
    "![tissue_count](tissue_count_gold.png) \n",
    "\n",
    "#### for gold\n",
    "we loose the top and the right  \n",
    "and the curve looks like just two main trends  \n",
    "with no serious discontinuity\n",
    "\n",
    "\n",
    "![tissue_count](tissue_count_gold_present.png) \n",
    "\n",
    "#### for gold present\n",
    "we loose more the top and the right  \n",
    "and the curve looks like just two main trends  \n",
    "with no serious discontinuity"
   ]
  },
  {
   "cell_type": "code",
   "execution_count": 16,
   "metadata": {},
   "outputs": [
    {
     "name": "stdout",
     "output_type": "stream",
     "text": [
      "      1 Expression\n",
      "2893316 absent\n",
      "5991306 present\n"
     ]
    }
   ],
   "source": [
    "# what is measured\n",
    "cut -f5 Homo_sapiens_expr_simple.tsv | sort | uniq -c | sort -n"
   ]
  },
  {
   "cell_type": "code",
   "execution_count": 17,
   "metadata": {},
   "outputs": [
    {
     "name": "stdout",
     "output_type": "stream",
     "text": [
      "1909771 present\n"
     ]
    }
   ],
   "source": [
    "# what is measured\n",
    "cut -f5 Homo_sapiens_expr_gold_present.tsv | sort | uniq -c | sort -n"
   ]
  },
  {
   "cell_type": "markdown",
   "metadata": {},
   "source": [
    "existance.  (but only among the fraction that are measured),  \n",
    "for all and gold:  \n",
    "two thirds are there and one third is not there"
   ]
  },
  {
   "cell_type": "markdown",
   "metadata": {},
   "source": [
    "\n",
    "Each gene-tissue combination has three states\n",
    " - unreported   \n",
    " - absent\n",
    " - present\n",
    " \n",
    "combining these we can have six combinations \n",
    "\n",
    " - `unreported unreported`\n",
    " - `unreported absent`\n",
    " - `unreported present`\n",
    " - `absent absent`\n",
    " - `absent present`\n",
    " - `present present`\n",
    " \n",
    "anything and `unreported` should remain `unreported`  \n",
    "any that agree should strengthen   \n",
    "any that disagree should weaken  \n",
    "\n",
    "The first scheme that comes to mind is to let:   \n",
    "    absent     = -1  \n",
    "    unreported =  0  \n",
    "    present    =  1  \n",
    "then multiply each gene tissue comparison and sum the resulting vector.\n",
    "\n",
    "note: \n",
    "This has the a similar but not as bad effect as my previous scoreing scheme\n",
    "in [human_protein_atlas_coexpression](https://github.com/TomConlin/human_protein_atlas_coexpression)  \n",
    "there the best match score approached that of unreported. \n",
    "here the 50/50 [agree/disagree] match score aproaches unreported.  \n",
    "\n",
    "Which at least has a chance of not mattering if significance   \n",
    "reqires more agreement than disagreement, which seems likely."
   ]
  },
  {
   "cell_type": "markdown",
   "metadata": {},
   "source": [
    "They also have a rank.\n",
    "\n",
    "```\n",
    "Rank scores of expression calls are normalized across genes, conditions and species. Low score means that the gene is highly expressed in the condition. Max rank score in all species: 4.10e4. Min rank score varies across species.\n",
    "```\n",
    "41,000\n",
    "\n",
    "I am going to ignore rank for now"
   ]
  },
  {
   "cell_type": "code",
   "execution_count": 18,
   "metadata": {
    "scrolled": true
   },
   "outputs": [
    {
     "name": "stdout",
     "output_type": "stream",
     "text": [
      "9.77e3\n",
      "560\n",
      "6.20e3\n",
      "2.73e3\n",
      "9.94e3\n",
      "1.62e4\n",
      "1.07e4\n",
      "2.32e3\n",
      "5.51e3\n",
      "1.59e3\n",
      "cut: write error: Broken pipe\n"
     ]
    }
   ],
   "source": [
    "cut -f7 Homo_sapiens_expr_gold_present.tsv | head"
   ]
  },
  {
   "cell_type": "markdown",
   "metadata": {},
   "source": [
    "That is far more nuanced than yes|no|maybe"
   ]
  },
  {
   "cell_type": "markdown",
   "metadata": {
    "collapsed": true
   },
   "source": [
    "Check up front if our Fanconi genes are represented"
   ]
  },
  {
   "cell_type": "code",
   "execution_count": 21,
   "metadata": {},
   "outputs": [],
   "source": [
    "cut -f2 Homo_sapiens_expr_gold_present.tsv | tr -d '\"' |sort -u > bgee_gene_symbol_gold_present.txt"
   ]
  },
  {
   "cell_type": "code",
   "execution_count": 22,
   "metadata": {},
   "outputs": [
    {
     "name": "stdout",
     "output_type": "stream",
     "text": [
      "53481\n"
     ]
    }
   ],
   "source": [
    "wc -l < bgee_gene_symbol_gold_present.txt"
   ]
  },
  {
   "cell_type": "code",
   "execution_count": 23,
   "metadata": {},
   "outputs": [
    {
     "name": "stdout",
     "output_type": "stream",
     "text": [
      "NCBIGene:2175\tFANCA\n",
      "NCBIGene:2187\tFANCB\n",
      "NCBIGene:2176\tFANCC\n",
      "NCBIGene:2178\tFANCE\n",
      "NCBIGene:2188\tFANCF\n",
      "NCBIGene:2189\tFANCG\n",
      "NCBIGene:55120\tFANCL\n",
      "NCBIGene:57697\tFANCM\n",
      "NCBIGene:2177\tFANCD2\n",
      "NCBIGene:55215\tFANCI\n"
     ]
    }
   ],
   "source": [
    "head FA_1_core_complex.txt"
   ]
  },
  {
   "cell_type": "code",
   "execution_count": 24,
   "metadata": {
    "collapsed": true
   },
   "outputs": [],
   "source": [
    "cut -f2 FA_*.txt | sort > target_gene_symbol.txt"
   ]
  },
  {
   "cell_type": "code",
   "execution_count": 25,
   "metadata": {},
   "outputs": [
    {
     "name": "stdout",
     "output_type": "stream",
     "text": [
      "25\n"
     ]
    }
   ],
   "source": [
    "comm -12 bgee_gene_symbol_gold_present.txt target_gene_symbol.txt | wc -l"
   ]
  },
  {
   "cell_type": "markdown",
   "metadata": {},
   "source": [
    "Great! that is 25 out of 27 just checking symbols   \n",
    "the other two may show up via identifiers   \n",
    "if any nomenclature is out of date.  \n",
    "\n",
    "Note \n",
    "\n",
    "as I have switched from all, to gold quality, to only gold quality that are present;  \n",
    "the coverage of the FA set has not decreased\n"
   ]
  },
  {
   "cell_type": "code",
   "execution_count": null,
   "metadata": {
    "collapsed": true
   },
   "outputs": [],
   "source": []
  }
 ],
 "metadata": {
  "kernelspec": {
   "display_name": "Bash",
   "language": "bash",
   "name": "bash"
  },
  "language_info": {
   "codemirror_mode": "shell",
   "file_extension": ".sh",
   "mimetype": "text/x-sh",
   "name": "bash"
  }
 },
 "nbformat": 4,
 "nbformat_minor": 2
}
