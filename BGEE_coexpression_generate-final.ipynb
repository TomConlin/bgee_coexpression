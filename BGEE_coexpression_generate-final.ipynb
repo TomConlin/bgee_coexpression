{
 "cells": [
  {
   "cell_type": "markdown",
   "metadata": {},
   "source": [
    "This notebooks replicates the [Human Protein Atlas coexpression](https://github.com/TomConlin/human_protein_atlas_coexpression) notebook but with BGEE expression data in hopes of finding co expression profile matches for FA genes."
   ]
  },
  {
   "cell_type": "markdown",
   "metadata": {},
   "source": [
    "Input is filtered to remove `'absent'` and `'bronze quality'`.\n",
    "\n",
    "expression  \n",
    " - present (5,991,306 \n",
    " - absent (2,893,316  skipped)\n",
    " \n",
    "quality  \n",
    " - gold    (2,921,827)\n",
    " - silver  (5,837,817)\n",
    " - bronze    (124,978   skipped)  \n",
    "\n",
    "grep \"present\" Homo_sapiens_expr_simple.tsv | grep -v \"bronze quality\" > Homo_sapiens_expr_present.tsv\n",
    "\n",
    "`absent` is removed because of the number of connections it promotes. \n",
    "Basicly every gene becomes associated with many thousands (about 10% of the gnome)   \n",
    "My guess is there are more ways for expression to be reported absent than preaent.\n",
    "\n",
    "`bronze` is removed because after days of running and rerunning \n",
    "this process I "
   ]
  },
  {
   "cell_type": "markdown",
   "metadata": {},
   "source": [
    "#### Take N+1  \n",
    "\n",
    "Since we are longer keping absent calls we don't need to handle three states\n",
    "will no longer need to multiply or dot product.  \n",
    "\n",
    "Also means the the number of nonzeros in either of the comparison pair is an insufficent benchmark  and the number of non zeros in the combined pair is  the value to compare with the benchmark so...  \n",
    "the benchmark has to be something like the average number of non zeros in the pair\n",
    "\n",
    "score = 2*nz(a&b)/nz(a)+nz(b)\n",
    "\n",
    "Only keeping pairs with __perfect__ agreement (non-disagrement)\n",
    "resulted in only about 8k out of 60k ENSG being associated into about 1350 clusters.  \n",
    "\n",
    "Allowing a tiny amount of wiggle room in number of tissues with reported expression \n",
    "will improve coverage.\n",
    "\n",
    "\n",
    "```\n",
    "ENSG00000000003\n",
    "ENSG00000000005\n",
    "ENSG00000000419\n",
    "ENSG00000000457\n",
    "ENSG00000000460\n",
    "ENSG00000000938\n",
    "ENSG00000000971\n",
    "ENSG00000001036\n",
    "ENSG00000001084\n",
    "ENSG00000001167\n",
    "```\n",
    "\n"
   ]
  },
  {
   "cell_type": "code",
   "execution_count": 6,
   "metadata": {
    "collapsed": true
   },
   "outputs": [],
   "source": [
    "import csv\n",
    "import re\n",
    "import array\n",
    "import matplotlib.pyplot as plt\n",
    "import statistics\n",
    "import requests\n",
    "import json\n",
    "import yaml\n",
    "import os\n",
    "import networkx as nx\n",
    "from networkx.algorithms import approximation\n",
    "import datetime\n",
    "import operator"
   ]
  },
  {
   "cell_type": "markdown",
   "metadata": {},
   "source": [
    "Use the tissue measurement frequency to set the order for tissue profile recording  \n",
    "this file was generated in the explore notebook"
   ]
  },
  {
   "cell_type": "code",
   "execution_count": 2,
   "metadata": {
    "collapsed": true
   },
   "outputs": [],
   "source": [
    "file = 'tissue_count_present.tab' \n",
    "# count tissue_id\n",
    "tissue_index = {}\n",
    "with open(file, newline='') as csvfile:\n",
    "    csvreader = csv.reader(csvfile, delimiter='\\t')\n",
    "    #csvreader.__next__()  # header\n",
    "    line_number = 0\n",
    "    for line in csvreader:\n",
    "        (count, tissue_id) = line\n",
    "        tissue_index[tissue_id] = line_number\n",
    "        line_number += 1\n",
    "tissue_length = len(tissue_index)     "
   ]
  },
  {
   "cell_type": "code",
   "execution_count": 4,
   "metadata": {},
   "outputs": [
    {
     "name": "stdout",
     "output_type": "stream",
     "text": [
      "how many tissues:  308\n"
     ]
    }
   ],
   "source": [
    "print('how many tissues: ', tissue_length)"
   ]
  },
  {
   "cell_type": "code",
   "execution_count": 5,
   "metadata": {
    "collapsed": true
   },
   "outputs": [],
   "source": [
    "file = 'Homo_sapiens_expr_present.tsv'\n",
    "#1:Gene ID\n",
    "#2:\"Gene name\"\n",
    "#3:Anatomical entity ID\n",
    "#4:\"Anatomical entity name\"\n",
    "#5:Expression\n",
    "#6:Call quality\n",
    "#7:Expression rank\n",
    "\n",
    "# make places to stash stuff \n",
    "gene_tissue = {}\n",
    "#gene_tissue_rank_curve = {}\n",
    "tissue_names = {}\n",
    "gene_names = {}\n",
    "\n",
    "with open(file, newline='') as csvfile:\n",
    "    csvreader = csv.reader(csvfile, delimiter='\\t', quotechar='\"')\n",
    "    # csvreader.__next__()  # no header on filtered file\n",
    "    for line in csvreader:\n",
    "        (gene_id, gene_name, tissue_id, tissue_name, level, reliability, rank) = line\n",
    "        # record the measurement   \n",
    "        if gene_id in gene_tissue:\n",
    "            gene_tissue[gene_id][tissue_index[tissue_id]] = 1\n",
    "        else:\n",
    "            gene_tissue[gene_id] = array.array('b', [0] * tissue_length)\n",
    "            gene_tissue[gene_id][tissue_index[tissue_id]] = 1\n",
    "\n",
    "        # save human friendly tissue label \n",
    "        if tissue_id not in tissue_names:\n",
    "            tissue_names[tissue_id] = tissue_name\n",
    "        \n",
    "        # save human friendly gene symbol \n",
    "        if gene_id not in gene_names:\n",
    "            gene_names[gene_id] = gene_name"
   ]
  },
  {
   "cell_type": "code",
   "execution_count": 6,
   "metadata": {},
   "outputs": [
    {
     "data": {
      "text/plain": [
       "59166"
      ]
     },
     "execution_count": 6,
     "metadata": {},
     "output_type": "execute_result"
    }
   ],
   "source": [
    "len(gene_tissue)"
   ]
  },
  {
   "cell_type": "code",
   "execution_count": 7,
   "metadata": {},
   "outputs": [
    {
     "data": {
      "text/plain": [
       "247"
      ]
     },
     "execution_count": 7,
     "metadata": {},
     "output_type": "execute_result"
    }
   ],
   "source": [
    "# a couple of arbitrary particulars\n",
    "g1 = 'ENSG00000000003' \n",
    "g2 = 'ENSG00000001167'\n",
    "\n",
    "# how many tissues are both genes expressed in together\n",
    "sum([a&b for (a,b) in zip(gene_tissue[g1],gene_tissue[g2])])"
   ]
  },
  {
   "cell_type": "code",
   "execution_count": 8,
   "metadata": {},
   "outputs": [
    {
     "data": {
      "text/plain": [
       "512"
      ]
     },
     "execution_count": 8,
     "metadata": {},
     "output_type": "execute_result"
    }
   ],
   "source": [
    "# # how many tissues are both genes expressed in separately\n",
    "sum(gene_tissue[g1])+sum(gene_tissue[g2])  "
   ]
  },
  {
   "cell_type": "code",
   "execution_count": 9,
   "metadata": {},
   "outputs": [
    {
     "data": {
      "text/plain": [
       "0.96484375"
      ]
     },
     "execution_count": 9,
     "metadata": {},
     "output_type": "execute_result"
    }
   ],
   "source": [
    "# relative score\n",
    "2*sum([a&b for (a,b) in zip(gene_tissue[g1],gene_tissue[g2])])/(sum(gene_tissue[g1])+sum(gene_tissue[g2]))"
   ]
  },
  {
   "cell_type": "code",
   "execution_count": 10,
   "metadata": {},
   "outputs": [
    {
     "data": {
      "text/plain": [
       "0.801948051948052"
      ]
     },
     "execution_count": 10,
     "metadata": {},
     "output_type": "execute_result"
    }
   ],
   "source": [
    "# absolute score\n",
    "sum([a&b for (a,b) in zip(gene_tissue[g1],gene_tissue[g2])])/len(gene_tissue[g1])"
   ]
  },
  {
   "cell_type": "code",
   "execution_count": 11,
   "metadata": {
    "collapsed": true
   },
   "outputs": [],
   "source": [
    "# save a copy \n",
    "with open('gene_tissue_present.yaml', 'w') as fh:\n",
    "    yaml.dump(gene_tissue, fh)"
   ]
  },
  {
   "cell_type": "markdown",
   "metadata": {},
   "source": [
    "Make a record of how many tissues each gene is expressed in \n",
    "and look at the distrabution. \n",
    "\n",
    "Do any genes have too few tissues?"
   ]
  },
  {
   "cell_type": "code",
   "execution_count": 12,
   "metadata": {
    "collapsed": true
   },
   "outputs": [],
   "source": [
    "gene_tissue_count = {}\n",
    "for gene in gene_tissue:\n",
    "   gene_tissue_count[gene] = sum(gene_tissue[gene])"
   ]
  },
  {
   "cell_type": "code",
   "execution_count": 13,
   "metadata": {
    "collapsed": true
   },
   "outputs": [],
   "source": [
    "# save a copy \n",
    "with open('gene_tissue_count.yaml', 'w') as fh:\n",
    "    yaml.dump(gene_tissue_count, fh)"
   ]
  },
  {
   "cell_type": "code",
   "execution_count": 27,
   "metadata": {},
   "outputs": [
    {
     "data": {
      "image/png": "[encoded data removed]",
      "text/plain": [
       "<matplotlib.figure.Figure at 0x7f5ede65b400>"
      ]
     },
     "metadata": {},
     "output_type": "display_data"
    }
   ],
   "source": [
    "\n",
    "\n",
    "# https://networkx.github.io/documentation/stable/auto_examples/drawing/plot_degree_rank.html#sphx-glr-auto-examples-drawing-plot-degree-rank-py\n",
    "plt.plot(sorted(gene_tissue_count.values(), reverse=True), 'b-', marker='o')\n",
    "plt.title(\"Tissue / Gene\")\n",
    "plt.ylabel(\"tissues\")\n",
    "plt.xlabel(\"genes\")\n",
    "plt.show()"
   ]
  },
  {
   "cell_type": "code",
   "execution_count": 30,
   "metadata": {},
   "outputs": [
    {
     "name": "stdout",
     "output_type": "stream",
     "text": [
      "Mean:\t 99.15032282053882\n",
      "Mode:\t 98\n",
      "Median:\t 80.0\n",
      "StdDev:\t 80.05983981161485\n"
     ]
    }
   ],
   "source": [
    "print(\"Mean:\\t\", statistics.mean(gene_tissue_count.values()))\n",
    "print(\"Mode:\\t\", statistics.mode(gene_tissue_count.values()))\n",
    "print(\"Median:\\t\", statistics.median(gene_tissue_count.values()))\n",
    "print(\"StdDev:\\t\", statistics.pstdev(gene_tissue_count.values()))"
   ]
  },
  {
   "cell_type": "markdown",
   "metadata": {},
   "source": []
  },
  {
   "cell_type": "code",
   "execution_count": null,
   "metadata": {
    "collapsed": true
   },
   "outputs": [],
   "source": [
    "genes = list(gene_tissue) # need a fixed order\n",
    "genlen = len(genes)\n",
    "gtlen = len(gene_tissue[genes[1]])\n",
    "\n",
    "print(\"number of ensembl genes: \", genlen)\n",
    "print(\"total number of tissues: \", gtlen)\n",
    "print(genes[1])\n",
    "\n",
    "# print(\"number of pairwise comparisons: \", (genlen^2)/2-genlen)"
   ]
  },
  {
   "cell_type": "markdown",
   "metadata": {},
   "source": [
    "Overflows\n",
    "\n",
    "(59166^2)÷2−59166 == 1,750,248,612"
   ]
  },
  {
   "cell_type": "markdown",
   "metadata": {},
   "source": [
    "~1.75  billion comparisons  \n",
    "comb pairs of vectors with over 300 values each\n",
    "\n",
    "\n",
    "maybe I should switch to Julia for this next part.\n",
    "\n",
    "  - with plain python a thousand sweeps of the genome is about 40 minutes\n",
    "   - about a day though I neve let it run more than a few thouand sweeps\n",
    "   \n",
    "  - with numpy the first thousand sweeps of the genome is about 6 minutes\n",
    "   - 2.5 to 3 hours; I ran these too many times\n",
    "   \n",
    "  - Julia is under 2 minutes for the first thousand sweeps  \n",
    "   - 45 minutes total\n",
    " \n",
    "Yep. Should have switched sooner.\n"
   ]
  },
  {
   "cell_type": "markdown",
   "metadata": {
    "scrolled": true
   },
   "source": [
    "#### Python\n",
    "Runs in about a day\n",
    "```\n",
    "for a in range(0,genlen-1):\n",
    "    a_name = genes[a]\n",
    "    a_len = sum(gene_tissue[a_name])\n",
    "    if 0 == a%1000:\n",
    "        print(str(a) + ' kept ' + str(len(pairwise_common)) +  \" \" + str(datetime.datetime.now()))      \n",
    "    for b in range(a+1, genlen):\n",
    "        together = sum([a&b for (a,b) in zip(gene_tissue[a_name], gene_tissue[genes[b]])])\n",
    "        separate = a_len + sum(gene_tissue[genes[b]])\n",
    "        if 2 * together == separate:\n",
    "            pairwise_common[a_name + ',' + genes[b]] = together\n",
    "\n",
    "print(str(genlen) + ' kept ' + str(len(pairwise_common)) +  \" \" + str(datetime.datetime.now()))\n",
    "```\n",
    "\n",
    "#### Julia\n",
    "Runs in about 45 minutes\n",
    "```\n",
    "for a in 1:genlen-1\n",
    "    a_name = genes[a]\n",
    "    a_len = sum(gene_profile[a_name])\n",
    "    if 0 == a % 1000\n",
    "        println(a, \"\\t\", now())  \n",
    "    end    \n",
    "    for b in a+1:genlen\n",
    "        together = sum(gene_profile[a_name] & gene_profile[genes[b]])\n",
    "        separate = a_len + sum(gene_profile[genes[b]])\n",
    "        if 2 * together == separate\n",
    "            pairwise_common[a_name => genes[b]] = together\n",
    "        end\n",
    "    end                \n",
    "end\n",
    "println(genlen,\"\\t\", now())\n",
    "```"
   ]
  },
  {
   "cell_type": "markdown",
   "metadata": {},
   "source": [
    "==========================================================================="
   ]
  },
  {
   "cell_type": "code",
   "execution_count": 149,
   "metadata": {
    "collapsed": true
   },
   "outputs": [],
   "source": [
    "# import the graph Julia wrote out\n",
    "G = nx.Graph()\n",
    "  \n",
    "with open(\"gene_gene_tissues.tab\") as fh:\n",
    "    reader = csv.reader(fh, delimiter='\\t')\n",
    "    for row in reader:\n",
    "        (g1,g2,tcnt)  = row\n",
    "        G.add_edge(row[0], row[1],weight=row[2])   "
   ]
  },
  {
   "cell_type": "code",
   "execution_count": 150,
   "metadata": {
    "collapsed": true
   },
   "outputs": [],
   "source": [
    "clusters = nx.connected_components(G)"
   ]
  },
  {
   "cell_type": "code",
   "execution_count": 151,
   "metadata": {},
   "outputs": [
    {
     "name": "stdout",
     "output_type": "stream",
     "text": [
      "710\n"
     ]
    }
   ],
   "source": [
    "print(nx.number_connected_components(G))"
   ]
  },
  {
   "cell_type": "code",
   "execution_count": null,
   "metadata": {
    "collapsed": true
   },
   "outputs": [],
   "source": [
    "# approximation.k_components(G); # does not return"
   ]
  },
  {
   "cell_type": "code",
   "execution_count": 152,
   "metadata": {},
   "outputs": [
    {
     "data": {
      "text/plain": [
       "['ENSG00000248711', 'ENSG00000248195', 'ENSG00000227988', 'ENSG00000231137']"
      ]
     },
     "execution_count": 152,
     "metadata": {},
     "output_type": "execute_result"
    }
   ],
   "source": [
    "# dont try one with too many edges\n",
    "G.neighbors('ENSG00000228064')"
   ]
  },
  {
   "cell_type": "code",
   "execution_count": 94,
   "metadata": {
    "collapsed": true
   },
   "outputs": [],
   "source": [
    " # nx.average_degree_connectivity(G)"
   ]
  },
  {
   "cell_type": "code",
   "execution_count": 95,
   "metadata": {
    "collapsed": true
   },
   "outputs": [],
   "source": [
    " # nx.average_neighbor_degree(G)"
   ]
  },
  {
   "cell_type": "code",
   "execution_count": 153,
   "metadata": {
    "collapsed": true
   },
   "outputs": [],
   "source": [
    "# write out cluster each gene is in\n",
    "gene_cluster = {}\n",
    "clust = 0\n",
    "for cluster in clusters:\n",
    "    clust += 1\n",
    "    for node in cluster: \n",
    "        gene_cluster[node] = clust"
   ]
  },
  {
   "cell_type": "code",
   "execution_count": 154,
   "metadata": {},
   "outputs": [
    {
     "data": {
      "text/plain": [
       "6"
      ]
     },
     "execution_count": 154,
     "metadata": {},
     "output_type": "execute_result"
    }
   ],
   "source": [
    "gene_cluster['ENSG00000140740']"
   ]
  },
  {
   "cell_type": "code",
   "execution_count": 155,
   "metadata": {
    "collapsed": true
   },
   "outputs": [],
   "source": [
    "with open('ensg_cluster.yaml', 'w') as fh:\n",
    "    yaml.dump(gene_cluster, fh)"
   ]
  },
  {
   "cell_type": "code",
   "execution_count": 156,
   "metadata": {
    "collapsed": true
   },
   "outputs": [],
   "source": [
    "degree_sequence = sorted(G.degree().items(), key=operator.itemgetter(1), reverse=True)\n",
    "# sorted(x.items(), key=operator.itemgetter(1))"
   ]
  },
  {
   "cell_type": "code",
   "execution_count": 157,
   "metadata": {},
   "outputs": [
    {
     "data": {
      "image/png": "[encoded data removed]",
      "text/plain": [
       "<matplotlib.figure.Figure at 0x7f5e18894eb8>"
      ]
     },
     "metadata": {},
     "output_type": "display_data"
    }
   ],
   "source": [
    "# adapted from: \n",
    "# https://networkx.github.io/documentation/stable/auto_examples/drawing/plot_degree_rank.html#sphx-glr-auto-examples-drawing-plot-degree-rank-py\n",
    "plt.plot([d for n,d in degree_sequence], 'b-', marker='o')\n",
    "plt.title(\"Degree rank plot\")\n",
    "plt.ylabel(\"degree\")\n",
    "plt.xlabel(\"rank\")\n",
    "plt.show()"
   ]
  },
  {
   "cell_type": "code",
   "execution_count": 158,
   "metadata": {},
   "outputs": [
    {
     "data": {
      "image/png": "[encoded data removed]",
      "text/plain": [
       "<matplotlib.figure.Figure at 0x7f5e6d6e7908>"
      ]
     },
     "metadata": {},
     "output_type": "display_data"
    }
   ],
   "source": [
    "plt.loglog([d for n,d in degree_sequence], 'b-', marker='o')\n",
    "plt.title(\"Log-Log Degree rank plot\")\n",
    "plt.ylabel(\"degree\")\n",
    "plt.xlabel(\"rank\")\n",
    "plt.show()"
   ]
  },
  {
   "cell_type": "code",
   "execution_count": 159,
   "metadata": {
    "collapsed": true
   },
   "outputs": [],
   "source": [
    "! tr ',' '\\n'  < ensg_cluster.yaml | grep -v \"^$\" | tr -d \"} {\" | tr ':' '\\t' | sort -k2,2n >  ensg_cluster.tab"
   ]
  },
  {
   "cell_type": "code",
   "execution_count": 160,
   "metadata": {},
   "outputs": [
    {
     "name": "stdout",
     "output_type": "stream",
     "text": [
      "   7353 1\r\n",
      "   3979 6\r\n",
      "   1222 5\r\n",
      "    296 4\r\n",
      "    279 13\r\n",
      "    190 26\r\n",
      "     83 9\r\n",
      "     79 7\r\n",
      "     62 59\r\n",
      "     58 31\r\n",
      "     55 17\r\n",
      "     41 54\r\n",
      "     41 2\r\n",
      "     35 64\r\n",
      "     29 47\r\n",
      "     28 95\r\n",
      "     26 37\r\n",
      "     25 131\r\n",
      "     24 130\r\n",
      "     23 35\r\n",
      "sort: write failed: 'standard output': Broken pipe\r\n",
      "sort: write error\r\n"
     ]
    }
   ],
   "source": [
    "! cut -f2 ensg_cluster.tab | uniq -c | sort -nr | head -20"
   ]
  },
  {
   "cell_type": "markdown",
   "metadata": {},
   "source": [
    "##### It looks like there a few thousand that have a degree of a few thousand.\n",
    "\n",
    "A thousand associations is probably in the diminishing returns catagory for human cognition.\n",
    "\n",
    "With any luck they are all pointing at each other. (they really have to be)\n",
    "\n",
    "So maybe we will end up dropping the few most populated clusters  (1, 5 & 6)\n"
   ]
  },
  {
   "cell_type": "code",
   "execution_count": 161,
   "metadata": {},
   "outputs": [
    {
     "name": "stdout",
     "output_type": "stream",
     "text": [
      "16184 ensg_cluster.tab\r\n"
     ]
    }
   ],
   "source": [
    "# how many genes made it into some cluster\n",
    "! wc -l ensg_cluster.tab"
   ]
  },
  {
   "cell_type": "markdown",
   "metadata": {},
   "source": [
    "12.4k out of 60k means about 27% of the input found some sort of coexpression relation\n",
    "\n",
    "lets hope our FA genes are in there this time"
   ]
  },
  {
   "cell_type": "code",
   "execution_count": 162,
   "metadata": {
    "collapsed": true
   },
   "outputs": [],
   "source": [
    "concordant = sorted([int(row.split(\" \")[2]) for row in nx.generate_edgelist(G,data=['weight'])], reverse=True)"
   ]
  },
  {
   "cell_type": "code",
   "execution_count": 163,
   "metadata": {},
   "outputs": [
    {
     "data": {
      "text/plain": [
       "[284, 284, 283, 283, 283, 283, 283, 283, 283]"
      ]
     },
     "execution_count": 163,
     "metadata": {},
     "output_type": "execute_result"
    }
   ],
   "source": [
    "# \n",
    "concordant[0:9]\n",
    "#(g1,g2,w) = next(nx.generate_edgelist(G,data=['weight'])).split(' ') ; w"
   ]
  },
  {
   "cell_type": "code",
   "execution_count": 165,
   "metadata": {},
   "outputs": [
    {
     "name": "stdout",
     "output_type": "stream",
     "text": [
      "Min:\t 1\n",
      "Max:\t 284\n",
      "Mean:\t 127.52173552660332\n",
      "Median:\t 97.0\n",
      "Mode:\t 96\n",
      "StdDev:\t 68.7375400624874\n"
     ]
    }
   ],
   "source": [
    "print(\"Min:\\t\", min(concordant))\n",
    "print(\"Max:\\t\", max(concordant))\n",
    "print(\"Mean:\\t\", statistics.mean(concordant))\n",
    "print(\"Median:\\t\", statistics.median(concordant))\n",
    "print(\"Mode:\\t\", statistics.mode(concordant))\n",
    "print(\"StdDev:\\t\", statistics.pstdev(concordant))"
   ]
  },
  {
   "cell_type": "code",
   "execution_count": 166,
   "metadata": {},
   "outputs": [
    {
     "data": {
      "image/png": "[encoded data removed]",
      "text/plain": [
       "<matplotlib.figure.Figure at 0x7f5f09c41d30>"
      ]
     },
     "metadata": {},
     "output_type": "display_data"
    }
   ],
   "source": [
    "plt.plot(concordant, 'b-', marker='o')\n",
    "plt.title(\"Tissues per gene-pair\")\n",
    "plt.ylabel(\"tissues\")\n",
    "plt.xlabel(\"pair\")\n",
    "plt.show()"
   ]
  },
  {
   "cell_type": "markdown",
   "metadata": {},
   "source": [
    "I would not be suprised to learn duplex 7X7 well plates were common in expresion wetlabs."
   ]
  },
  {
   "cell_type": "markdown",
   "metadata": {},
   "source": [
    "### Fanconi Genes"
   ]
  },
  {
   "cell_type": "code",
   "execution_count": 7,
   "metadata": {
    "collapsed": true
   },
   "outputs": [],
   "source": [
    "def fa_reader(fa_filename, fa_dict):\n",
    "    \n",
    "    with open(fa_filename, 'r') as fh:\n",
    "        reader = csv.reader(fh, delimiter='\\t')\n",
    "        for row in reader:\n",
    "            (ncbi_gene, symbol) = row\n",
    "            fa_dict[ncbi_gene] = symbol\n",
    "\n",
    "    return fa_dict"
   ]
  },
  {
   "cell_type": "code",
   "execution_count": 8,
   "metadata": {},
   "outputs": [
    {
     "data": {
      "text/plain": [
       "{'NCBIGene:2175': 'FANCA',\n",
       " 'NCBIGene:2176': 'FANCC',\n",
       " 'NCBIGene:2177': 'FANCD2',\n",
       " 'NCBIGene:2178': 'FANCE',\n",
       " 'NCBIGene:2187': 'FANCB',\n",
       " 'NCBIGene:2188': 'FANCF',\n",
       " 'NCBIGene:2189': 'FANCG',\n",
       " 'NCBIGene:29089': 'UBE2T',\n",
       " 'NCBIGene:55120': 'FANCL',\n",
       " 'NCBIGene:55215': 'FANCI',\n",
       " 'NCBIGene:57697': 'FANCM'}"
      ]
     },
     "execution_count": 8,
     "metadata": {},
     "output_type": "execute_result"
    }
   ],
   "source": [
    "\n",
    "fa_core = fa_reader(\"FA_1_core_complex.txt\", {})"
   ]
  },
  {
   "cell_type": "code",
   "execution_count": 9,
   "metadata": {
    "collapsed": true
   },
   "outputs": [],
   "source": [
    "\n",
    "fa_effector = fa_reader(\"FA_2_effector_proteins.txt\", {})\n",
    "\n",
    "fa_associated = fa_reader(\"FA_3_associated_proteins.txt\", {})"
   ]
  },
  {
   "cell_type": "code",
   "execution_count": 11,
   "metadata": {
    "collapsed": true
   },
   "outputs": [],
   "source": [
    "fa_symbol = {}\n",
    "fa_reader(\"FA_1_core_complex.txt\", fa_symbol)\n",
    "fa_effector = fa_reader(\"FA_2_effector_proteins.txt\", fa_symbol)\n",
    "fa_associated = fa_reader(\"FA_3_associated_proteins.txt\", fa_symbol)"
   ]
  },
  {
   "cell_type": "markdown",
   "metadata": {},
   "source": [
    "###  HGNC_nomenclature_update \n",
    "(Read files files produced from external notebook)"
   ]
  },
  {
   "cell_type": "code",
   "execution_count": 13,
   "metadata": {
    "collapsed": true
   },
   "outputs": [],
   "source": [
    "with open('ensgid_symbol_hgnc.yaml', 'r') as fh:\n",
    "    ensg_sym = dict(yaml.load(fh))\n",
    "    \n",
    "with open('ncbi_symbol_hgnc.yaml', 'r') as fh:\n",
    "    ncbi_sym = dict(yaml.load(fh))   \n",
    "    \n",
    "with open('ensg_ncbi.yaml', 'r') as fh:\n",
    "    ensg_ncbi = dict(yaml.load(fh))"
   ]
  },
  {
   "cell_type": "markdown",
   "metadata": {},
   "source": [
    "#### check FA nomemclature"
   ]
  },
  {
   "cell_type": "code",
   "execution_count": 136,
   "metadata": {
    "collapsed": true
   },
   "outputs": [],
   "source": [
    "for key in fa_symbol:\n",
    "    (pfx, gid) = key.split(\":\")\n",
    "    if gid not in ncbi_sym:\n",
    "        print(\"Warn \", key, \" not in HGNC\") \n",
    "    elif fa_symbol[key] != ncbi_sym[gid]:\n",
    "        print(\"Warn \", key ,fa_symbol[key] , ncbi_sym[gid]) \n",
    "\n",
    "# all okay 2017 Oct 11        "
   ]
  },
  {
   "cell_type": "markdown",
   "metadata": {},
   "source": [
    "need a map in the opposite direction than we have to \n",
    "translate ncbi to ensg which we need to query the graph with FA"
   ]
  },
  {
   "cell_type": "code",
   "execution_count": 138,
   "metadata": {},
   "outputs": [
    {
     "data": {
      "text/plain": [
       "36860"
      ]
     },
     "execution_count": 138,
     "metadata": {},
     "output_type": "execute_result"
    }
   ],
   "source": [
    "len(set(ensg_ncbi.keys()))"
   ]
  },
  {
   "cell_type": "code",
   "execution_count": 139,
   "metadata": {},
   "outputs": [
    {
     "data": {
      "text/plain": [
       "36860"
      ]
     },
     "execution_count": 139,
     "metadata": {},
     "output_type": "execute_result"
    }
   ],
   "source": [
    "len(set(ensg_ncbi.values()))"
   ]
  },
  {
   "cell_type": "code",
   "execution_count": 14,
   "metadata": {
    "collapsed": true
   },
   "outputs": [],
   "source": [
    "# we are in luck this map is one to one\n",
    "ncbi_ensg = dict((v, k) for k, v in ensg_ncbi.items())"
   ]
  },
  {
   "cell_type": "markdown",
   "metadata": {},
   "source": [
    "#### See FA hits exist"
   ]
  },
  {
   "cell_type": "code",
   "execution_count": 1,
   "metadata": {},
   "outputs": [
    {
     "ename": "IndentationError",
     "evalue": "unindent does not match any outer indentation level (<ipython-input-1-37a69b02f463>, line 6)",
     "output_type": "error",
     "traceback": [
      "\u001b[0;36m  File \u001b[0;32m\"<ipython-input-1-37a69b02f463>\"\u001b[0;36m, line \u001b[0;32m6\u001b[0m\n\u001b[0;31m    if gid in ncbi_ensg:\u001b[0m\n\u001b[0m                        ^\u001b[0m\n\u001b[0;31mIndentationError\u001b[0m\u001b[0;31m:\u001b[0m unindent does not match any outer indentation level\n"
     ]
    }
   ],
   "source": [
    "# given a list of genes return associations for each\n",
    "def neighborhood_watch(gene_curie_list): \n",
    "\n",
    "    for key in gene_curie_list:\n",
    "            (pfx, gid) = key.split(\":\")\n",
    "        if gid in ncbi_ensg:\n",
    "            if ncbi_ensg[gid] in G:\n",
    "                print(fa_symbol[key] + '  ')\n",
    "                for neighbor in G.neighbors(ncbi_ensg[gid]):\n",
    "                    print('  -[', ensg_sym[neighbor], '](http://www.ncbi.nlm.nih.gov/gene/' + ensg_ncbi[neighbor]+')  ')\n",
    "            else:\n",
    "                 # print(\"Warn \", key ,\"\\tmaps to \", ncbi_ensg[gid], \" finds no coexpression\")\n",
    "                 continue\n",
    "        else:\n",
    "            print(\"Warn \", key ,\"\\tis not mapped to ENSG\")"
   ]
  },
  {
   "cell_type": "code",
   "execution_count": null,
   "metadata": {
    "collapsed": true
   },
   "outputs": [],
   "source": [
    "# hits on FA genes\n",
    "neighborhood_watch(fa_core)\n",
    "\n",
    "neighborhood_watch(fa_effector)\n",
    "\n",
    "neighborhood_watch(fa_associated)"
   ]
  },
  {
   "cell_type": "markdown",
   "metadata": {},
   "source": [
    "FANCG  \n",
    "  -[ PLEKHJ1 ](http://www.ncbi.nlm.nih.gov/gene/55111)  \n",
    "  -[ RABGEF1 ](http://www.ncbi.nlm.nih.gov/gene/27342)  \n",
    "  -[ MAN2B1 ](http://www.ncbi.nlm.nih.gov/gene/4125)  \n",
    "FAAP20  \n",
    "  -[ ATAD3B ](http://www.ncbi.nlm.nih.gov/gene/83858)  \n",
    "  -[ MCRIP2 ](http://www.ncbi.nlm.nih.gov/gene/84331)  \n",
    "FANCL  \n",
    "  -[ CEP170B ](http://www.ncbi.nlm.nih.gov/gene/283638)  \n",
    "  -[ CCDC93 ](http://www.ncbi.nlm.nih.gov/gene/54520)  \n",
    "  -[ TSPYL4 ](http://www.ncbi.nlm.nih.gov/gene/23270)  \n",
    "  -[ DSTYK ](http://www.ncbi.nlm.nih.gov/gene/25778)  \n",
    "  -[ MTMR4 ](http://www.ncbi.nlm.nih.gov/gene/9110)  \n",
    "  -[ NAB1 ](http://www.ncbi.nlm.nih.gov/gene/4664)  \n",
    "  -[ HECTD4 ](http://www.ncbi.nlm.nih.gov/gene/283450)  "
   ]
  },
  {
   "cell_type": "code",
   "execution_count": 15,
   "metadata": {},
   "outputs": [
    {
     "name": "stdout",
     "output_type": "stream",
     "text": [
      "ENSG00000168411\n",
      "ENSG00000181544\n",
      "ENSG00000112039\n",
      "ENSG00000185504\n",
      "ENSG00000083093\n",
      "ENSG00000140525\n",
      "ENSG00000188827\n",
      "ENSG00000175595\n",
      "ENSG00000136492\n",
      "ENSG00000158169\n",
      "ENSG00000221829\n",
      "ENSG00000131944\n",
      "ENSG00000139618\n",
      "ENSG00000162585\n",
      "ENSG00000175279\n",
      "ENSG00000187741\n",
      "ENSG00000115392\n",
      "ENSG00000169689\n",
      "ENSG00000116670\n",
      "ENSG00000012048\n",
      "ENSG00000051180\n",
      "ENSG00000144554\n",
      "ENSG00000187790\n",
      "ENSG00000077152\n",
      "ENSG00000183161\n",
      "ENSG00000108384\n",
      "ENSG00000196584\n"
     ]
    }
   ],
   "source": [
    "# Quick&Dirty ensembl ids for fagenes for external checks \n",
    "for key in fa_symbol:\n",
    "    (pfx, gid) = key.split(\":\")\n",
    "    if gid in ncbi_ensg:\n",
    "         print(ncbi_ensg[gid])"
   ]
  },
  {
   "cell_type": "code",
   "execution_count": null,
   "metadata": {
    "collapsed": true
   },
   "outputs": [],
   "source": [
    "# update gene symbols\n",
    "\n",
    "for gene_id in gene_tissue:\n",
    "      # try to bring gene info up to date\n",
    "        if gene_id in ensg_sym and gene_name != gene_names[gene_id]:\n",
    "            print('NOTE: '+ ensg_sym[gene_id]+ ' is replacing ' + gene_names[gene_id] + ' b/c ' + gene_id)\n",
    "            gene_names[gene_id] = ensg_sym[gene_id]\n",
    "        elif gene_id in ensg_ncbi and ensg_ncbi[gene_id] in ncbi_sym \\\n",
    "                and  gene_names[gene_id] != ncbi_sym[ensg_ncbi[gene_id]]:\n",
    "            print('NOTE: '+ ncbi_sym[ensg_ncbi[gene_id]] + ' is replacing ' + gene_name + ' b/c ' + gene_id + ' -> ' + ensg_ncbi[gene_id])\n",
    "            gene_names[gene_id] = ncbi_sym[ensg_ncbi[gene_id]]\n"
   ]
  },
  {
   "cell_type": "markdown",
   "metadata": {},
   "source": [
    "  !# Try to find NCBIGene_id for Ensenbl_ID\n",
    "        # try to convert ids from ensembl to ncbi \n",
    "        gene_id = ensg_ncbi[gene_id] if gene_id in ensg_ncbi else gene_id\n",
    "\n",
    "        !# last gasp conversion based on gene symbol\n",
    "        if gene_id == ensg and gene_name in sym_ncbi:\n",
    "            # print('WARN: ' + sym_ncbi[gene_name] + ' is replacing '+ ensg + ' b/c '+ gene_name)\n",
    "            gene_id = sym_ncbi[gene_name]"
   ]
  }
 ],
 "metadata": {
  "kernelspec": {
   "display_name": "Python 3",
   "language": "python",
   "name": "python3"
  },
  "language_info": {
   "codemirror_mode": {
    "name": "ipython",
    "version": 3
   },
   "file_extension": ".py",
   "mimetype": "text/x-python",
   "name": "python",
   "nbconvert_exporter": "python",
   "pygments_lexer": "ipython3",
   "version": "3.5.2"
  }
 },
 "nbformat": 4,
 "nbformat_minor": 2
}
