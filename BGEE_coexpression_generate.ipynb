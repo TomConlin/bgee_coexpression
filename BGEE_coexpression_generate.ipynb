{
 "cells": [
  {
   "cell_type": "markdown",
   "metadata": {},
   "source": [
    "Here we are basicly replicating my [Human Protein Atlas coexpression](https://github.com/TomConlin/human_protein_atlas_coexpression) notebook but with BGEE expression data"
   ]
  },
  {
   "cell_type": "code",
   "execution_count": 185,
   "metadata": {
    "collapsed": true
   },
   "outputs": [],
   "source": [
    "import csv\n",
    "import re\n",
    "#import array\n",
    "import numpy as np\n",
    "import matplotlib.pyplot as plt\n",
    "import statistics\n",
    "import requests\n",
    "import json\n",
    "import yaml\n",
    "import re\n",
    "import os\n",
    "import networkx as nx\n",
    "import datetime\n",
    "import operator"
   ]
  },
  {
   "cell_type": "code",
   "execution_count": 2,
   "metadata": {},
   "outputs": [],
   "source": [
    "\n",
    "# reduce ordered catagories to numbers \n",
    "levels = {\n",
    "    'absent' : -1,\n",
    "    'present': 1\n",
    "}\n",
    "\n",
    "reliabilities = {\n",
    "    'gold quality' : 2,\n",
    "    'silver quality' : 1,\n",
    "    'bronze quality' : 0\n",
    "}"
   ]
  },
  {
   "cell_type": "markdown",
   "metadata": {},
   "source": [
    "Nomenclature maintaince has to happen somewhere  \n",
    "Either early or late.  \n",
    "Although Ensembl is very lilely to be current     \n",
    "Monarch tends to standardise on NCBIGene IDs for other things \n",
    "\n",
    "[HGNC API doc](https://www.genenames.org/help/rest-web-service-help)  \n",
    "and  \n",
    "[Bulk Download](https://www.genenames.org/cgi-bin/download)\n",
    "\n",
    "in this process, the time to convert ids and symbols is after\n",
    "the set of tissue is associated with a gene  \n",
    "b/w then it is once per profile, instead of per measurement."
   ]
  },
  {
   "cell_type": "code",
   "execution_count": 33,
   "metadata": {},
   "outputs": [],
   "source": [
    "# https://www.genenames.org/cgi-bin/download?\n",
    "# col=gd_app_sym\n",
    "# col=gd_pub_eg_id\n",
    "# col=gd_pub_ensembl_id\n",
    "# col=md_eg_id&\n",
    "# col=md_ensembl_id\n",
    "# status=Approved\n",
    "# status_opt=2\n",
    "# order_by=gd_pub_eg_id\n",
    "# format=text\n",
    "# submit=submit\n",
    "\n",
    "HGNCURL='http://www.genenames.org/cgi-bin/download?'\n",
    "\n",
    "query = \"&\".join([\n",
    "    'col=gd_pub_ensembl_id',\n",
    "    'col=md_ensembl_id',\n",
    "    'col=gd_pub_eg_id',\n",
    "    'col=md_eg_id',\n",
    "    'col=gd_app_sym',\n",
    "    'order_by=gd_pub_ensembl_id',\n",
    "    'status=Approved',\n",
    "    'status_opt=2',\n",
    "    'format=text',\n",
    "    'submit=submit'\n",
    "])"
   ]
  },
  {
   "cell_type": "code",
   "execution_count": 34,
   "metadata": {},
   "outputs": [],
   "source": [
    "response = requests.get(HGNCURL + query)"
   ]
  },
  {
   "cell_type": "code",
   "execution_count": 35,
   "metadata": {},
   "outputs": [],
   "source": [
    "if response.status_code == requests.codes.ok:\n",
    "    hgnc = response.text.splitlines()\n",
    "    hgnc.pop(0)  # header\n",
    "else: \n",
    "    print('ERROR ' + response.url + ' returned '+ str(response.status_code))"
   ]
  },
  {
   "cell_type": "code",
   "execution_count": 268,
   "metadata": {},
   "outputs": [],
   "source": [
    "ensg_sym = {}  # in case there are any not mapped to ncbi as well\n",
    "sym_ensg = {}\n",
    "ensg_ncbi = {}\n",
    "ncbi_sym = {}\n",
    "\n",
    "sym_ncbi = {}\n",
    "\n",
    "for line in hgnc:\n",
    "    (ens1, ens2, eg1, eg2, symbol) = re.split(r'\\t',line)\n",
    "    ensg = ens2 if ens1 == '' else ens1\n",
    "    ncbi = eg2 if eg1 == '' else eg1    \n",
    "    if ensg != '': \n",
    "        if symbol != '':\n",
    "            ensg_sym[ensg] = symbol\n",
    "            sym_ensg[symbol] = ensg # to search network for our FA genes\n",
    "        if ncbi != '':\n",
    "            ensg_ncbi[ensg] = ncbi\n",
    "    if ncbi != '':\n",
    "        ncbi_sym[ncbi] = symbol\n",
    "        sym_ncbi[symbol] = ncbi"
   ]
  },
  {
   "cell_type": "code",
   "execution_count": 44,
   "metadata": {},
   "outputs": [
    {
     "data": {
      "text/plain": [
       "36863"
      ]
     },
     "execution_count": 44,
     "metadata": {},
     "output_type": "execute_result"
    }
   ],
   "source": [
    "len(ensg_sym)"
   ]
  },
  {
   "cell_type": "code",
   "execution_count": 49,
   "metadata": {},
   "outputs": [
    {
     "data": {
      "text/plain": [
       "41139"
      ]
     },
     "execution_count": 49,
     "metadata": {},
     "output_type": "execute_result"
    }
   ],
   "source": [
    "len(ncbi_sym) "
   ]
  },
  {
   "cell_type": "code",
   "execution_count": 46,
   "metadata": {},
   "outputs": [
    {
     "data": {
      "text/plain": [
       "36841"
      ]
     },
     "execution_count": 46,
     "metadata": {},
     "output_type": "execute_result"
    }
   ],
   "source": [
    "len(ensg_ncbi)"
   ]
  },
  {
   "cell_type": "markdown",
   "metadata": {},
   "source": [
    "As feared thare are tens of thousands of these measurements won't map directly back to something we can integreate, but it is still important to process them all because if something comes up as interesting, one could at least go back to the underlying sequence.  \n",
    "\n",
    "note: we can (should) never get an empty gene symbol from the nomenclature athority\n",
    "\n",
    "as there are slightly more ensembl->symbol than ensembl->ncbi  \n",
    " - first try ensembl->symbol   \n",
    " - then ensembl->ncbi->symbol "
   ]
  },
  {
   "cell_type": "code",
   "execution_count": 59,
   "metadata": {},
   "outputs": [],
   "source": [
    "with open('ensgid_symbol_hgnc.yaml', 'w') as fh:\n",
    "    yaml.dump(ensg_sym, fh)\n",
    "with open('ncbi_symbol_hgnc.yaml', 'w') as fh:\n",
    "    yaml.dump(ncbi_sym, fh)    \n",
    "with open('ensg_ncbi.yaml', 'w') as fh:\n",
    "    yaml.dump(ensg_ncbi, fh) "
   ]
  },
  {
   "cell_type": "markdown",
   "metadata": {},
   "source": [
    "Use the tissue measurement frequency to set the order for tissue profile recording"
   ]
  },
  {
   "cell_type": "code",
   "execution_count": 70,
   "metadata": {},
   "outputs": [],
   "source": [
    "file = 'tissue_count.tab' \n",
    "# count tissue_id\n",
    "tissue_index = {}\n",
    "with open(file, newline='') as csvfile:\n",
    "    csvreader = csv.reader(csvfile, delimiter='\\t')\n",
    "    #csvreader.__next__()  # header\n",
    "    line_number = 0\n",
    "    for line in csvreader:\n",
    "        (count, tissue_id) = line\n",
    "        tissue_index[tissue_id] = line_number\n",
    "        line_number += 1\n",
    "tissue_length = len(tissue_index)        "
   ]
  },
  {
   "cell_type": "code",
   "execution_count": 88,
   "metadata": {},
   "outputs": [],
   "source": [
    "file = 'Homo_sapiens_expr_simple.tsv'\n",
    "#1:Gene ID\n",
    "#2:\"Gene name\"\n",
    "#3:Anatomical entity ID\n",
    "#4:\"Anatomical entity name\"\n",
    "#5:Expression\n",
    "#6:Call quality\n",
    "#7:Expression rank\n",
    "\n",
    "# make places to stash stuff \n",
    "gene_tissue = {}\n",
    "#gene_tissue_rank_curve = {}\n",
    "tissue_names = {}\n",
    "gene_names = {}\n",
    "\n",
    "with open(file, newline='') as csvfile:\n",
    "    csvreader = csv.reader(csvfile, delimiter='\\t', quotechar='\"')\n",
    "    csvreader.__next__()  # header\n",
    "    for line in csvreader:\n",
    "        # print(line)\n",
    "        (gene_id, gene_name, tissue_id, tissue_name, level, reliability, rank) = line\n",
    "        \n",
    "        # record the measurement   \n",
    "        if gene_id in gene_tissue:\n",
    "            gene_tissue[gene_id][tissue_index[tissue_id]] = levels[level]\n",
    "        else:\n",
    "            gene_tissue[gene_id] = np.array([0] * tissue_length)\n",
    "            gene_tissue[gene_id][tissue_index[tissue_id]] = levels[level]\n",
    "\n",
    "        # save human friendly tissue label \n",
    "        if tissue_id not in tissue_names:\n",
    "            tissue_names[tissue_id] = tissue_name\n",
    "        \n",
    "        # save human friendly gene symbol \n",
    "        if gene_id not in gene_names:\n",
    "            gene_names[gene_id] = gene_name"
   ]
  },
  {
   "cell_type": "code",
   "execution_count": 73,
   "metadata": {
    "collapsed": true
   },
   "outputs": [],
   "source": [
    "# update gene symbols\n",
    "for gene_id in gene_tissue:\n",
    "      # try to bring gene info up to date\n",
    "        if gene_id in ensg_sym and gene_name != gene_names[gene_id]:\n",
    "            print('NOTE: '+ ensg_sym[gene_id]+ ' is replacing ' + gene_names[gene_id] + ' b/c ' + gene_id)\n",
    "            gene_names[gene_id] = ensg_sym[gene_id]\n",
    "        elif gene_id in ensg_ncbi and ensg_ncbi[gene_id] in ncbi_sym \\\n",
    "                and  gene_names[gene_id] != ncbi_sym[ensg_ncbi[gene_id]]:\n",
    "            print('NOTE: '+ ncbi_sym[ensg_ncbi[gene_id]] + ' is replacing ' + gene_name + ' b/c ' + gene_id + ' -> ' + ensg_ncbi[gene_id])\n",
    "            gene_names[gene_id] = ncbi_sym[ensg_ncbi[gene_id]]\n"
   ]
  },
  {
   "cell_type": "code",
   "execution_count": 80,
   "metadata": {},
   "outputs": [
    {
     "data": {
      "text/plain": [
       "59171"
      ]
     },
     "execution_count": 80,
     "metadata": {},
     "output_type": "execute_result"
    }
   ],
   "source": [
    "len(gene_tissue)"
   ]
  },
  {
   "cell_type": "code",
   "execution_count": 91,
   "metadata": {},
   "outputs": [
    {
     "data": {
      "text/plain": [
       "188"
      ]
     },
     "execution_count": 91,
     "metadata": {},
     "output_type": "execute_result"
    }
   ],
   "source": [
    "sum(gene_tissue['ENSG00000002330'] * gene_tissue['ENSG00000003402'])"
   ]
  },
  {
   "cell_type": "code",
   "execution_count": 90,
   "metadata": {},
   "outputs": [
    {
     "data": {
      "text/plain": [
       "188"
      ]
     },
     "execution_count": 90,
     "metadata": {},
     "output_type": "execute_result"
    }
   ],
   "source": [
    "np.dot(gene_tissue['ENSG00000002330'], gene_tissue['ENSG00000003402'])"
   ]
  },
  {
   "cell_type": "code",
   "execution_count": 97,
   "metadata": {},
   "outputs": [
    {
     "data": {
      "text/plain": [
       "0.73151750972762641"
      ]
     },
     "execution_count": 97,
     "metadata": {},
     "output_type": "execute_result"
    }
   ],
   "source": [
    "np.dot(gene_tissue['ENSG00000002330'], gene_tissue['ENSG00000003402'])/min(np.count_nonzero(gene_tissue['ENSG00000002330']),np.count_nonzero(gene_tissue['ENSG00000003402']))"
   ]
  },
  {
   "cell_type": "markdown",
   "metadata": {},
   "source": [
    "With this relative scoring scheme I am trying to normalize based only the reported measures\n",
    "that is; an unreported measurement is not counted as penalty alowing more \"perfect matches\"  \n",
    "\n",
    "however since this normalization is unique for each pair of genes  \n",
    "it means comparing scores between different pairs is not as meaningful.\n"
   ]
  },
  {
   "cell_type": "code",
   "execution_count": 98,
   "metadata": {},
   "outputs": [
    {
     "data": {
      "text/plain": [
       "0.60256410256410253"
      ]
     },
     "execution_count": 98,
     "metadata": {},
     "output_type": "execute_result"
    }
   ],
   "source": [
    "np.dot(gene_tissue['ENSG00000002330'], gene_tissue['ENSG00000003402'])/len(gene_tissue['ENSG00000003402'])"
   ]
  },
  {
   "cell_type": "markdown",
   "metadata": {},
   "source": [
    "this \"absolute\" normalizing does allow different pairs to be compared, but I expect vanishingly few will top out even if they agree on all available points.\n",
    "\n",
    "Probably keep both, and use the relative score to surface interesting associations \n",
    "and the absolute to give people something they can compare. "
   ]
  },
  {
   "cell_type": "markdown",
   "metadata": {},
   "source": [
    "  !# Try to find NCBIGene_id for Ensenbl_ID\n",
    "        # try to convert ids from ensembl to ncbi \n",
    "        gene_id = ensg_ncbi[gene_id] if gene_id in ensg_ncbi else gene_id\n",
    "\n",
    "        !# last gasp conversion based on gene symbol\n",
    "        if gene_id == ensg and gene_name in sym_ncbi:\n",
    "            # print('WARN: ' + sym_ncbi[gene_name] + ' is replacing '+ ensg + ' b/c '+ gene_name)\n",
    "            gene_id = sym_ncbi[gene_name]"
   ]
  },
  {
   "cell_type": "code",
   "execution_count": 101,
   "metadata": {},
   "outputs": [],
   "source": [
    "# save a copy \n",
    "#with open('gene_tissue_curve.yaml', 'w') as fh:\n",
    "#    yaml.dump(gene_tissue, fh)\n",
    "# Ack! can't dump numpy arrays like this they are binary   \n",
    "\n",
    "# gene_tissue.savetext('gene_tissue_curve.txt')\n",
    "# nor like that because the container is not numpy "
   ]
  },
  {
   "cell_type": "code",
   "execution_count": 108,
   "metadata": {},
   "outputs": [
    {
     "data": {
      "text/plain": [
       "'ENSG00000133055'"
      ]
     },
     "execution_count": 108,
     "metadata": {},
     "output_type": "execute_result"
    }
   ],
   "source": [
    "genes = list(gene_tissue) # need a fixed order\n",
    "genlen = len(genes)\n",
    "gtlen = len(gene_tissue[genes[1]])\n",
    "genes[1]\n",
    "\n",
    "# note: thanks to the opaqueness of the datastructures \n",
    "# we have no idea how we are hopping around in memory\n",
    "# while marching straight down this list."
   ]
  },
  {
   "cell_type": "markdown",
   "metadata": {},
   "source": [
    "((59172^2)/2)-59172 == 1,750,603,620\n",
    "\n",
    "1.75  billion comparisons involving pairs vectors with 300 values each\n",
    "\n",
    "maybe I should switch to Julia for this next part."
   ]
  },
  {
   "cell_type": "markdown",
   "metadata": {},
   "source": [
    "#### Take 2\n",
    "In retrospect (looking at first run which tooks about 2.5 hours),   \n",
    "keeping only those for which there is no reported disagreement \n",
    "subjectivly results in too many edges. \n",
    "So the relative score is a constant 'one'\n",
    "and the absolute score is more directly expressed as \n",
    "how many concordant mesurements or since we are only taking consensus results\n",
    "how many tissues did this pair of genes up|down express in the same direction?\n",
    "\n",
    "there is also a slight difference in how zeros are counted  \n",
    "first run 'unreporteds' were counted for each gene-tissue-set insependently\n",
    "then the one with the most zeros determined the relative limit.\n",
    "\n",
    "For this second run I combine the vectors before counting zeros.\n",
    "since this could result in fewer zeros than the min of the components\n",
    "there is a risk of generating even more edges.  \n",
    "will revert if it is a problem."
   ]
  },
  {
   "cell_type": "code",
   "execution_count": 269,
   "metadata": {},
   "outputs": [
    {
     "name": "stdout",
     "output_type": "stream",
     "text": [
      "2017-10-06 12:21:54.202561\n"
     ]
    },
    {
     "ename": "NameError",
     "evalue": "name 'common' is not defined",
     "output_type": "error",
     "traceback": [
      "\u001b[0;31m---------------------------------------------------------------------------\u001b[0m",
      "\u001b[0;31mNameError\u001b[0m                                 Traceback (most recent call last)",
      "\u001b[0;32m<ipython-input-269-d80d005f5e83>\u001b[0m in \u001b[0;36m<module>\u001b[0;34m()\u001b[0m\n\u001b[1;32m      8\u001b[0m         \u001b[0mcommom\u001b[0m \u001b[0;34m=\u001b[0m  \u001b[0mnp\u001b[0m\u001b[0;34m.\u001b[0m\u001b[0mcount_nonzero\u001b[0m\u001b[0;34m(\u001b[0m\u001b[0mproduct\u001b[0m\u001b[0;34m)\u001b[0m\u001b[0;34m\u001b[0m\u001b[0m\n\u001b[1;32m      9\u001b[0m         \u001b[0;31m# limit output\u001b[0m\u001b[0;34m\u001b[0m\u001b[0;34m\u001b[0m\u001b[0m\n\u001b[0;32m---> 10\u001b[0;31m         \u001b[0;32mif\u001b[0m \u001b[0mcommon\u001b[0m \u001b[0;34m==\u001b[0m \u001b[0msum\u001b[0m\u001b[0;34m(\u001b[0m\u001b[0mproduct\u001b[0m\u001b[0;34m)\u001b[0m \u001b[0;34m:\u001b[0m\u001b[0;34m\u001b[0m\u001b[0m\n\u001b[0m\u001b[1;32m     11\u001b[0m             \u001b[0mrel_scores\u001b[0m\u001b[0;34m[\u001b[0m\u001b[0ma_name\u001b[0m \u001b[0;34m+\u001b[0m \u001b[0;34m','\u001b[0m \u001b[0;34m+\u001b[0m \u001b[0mgenes\u001b[0m\u001b[0;34m[\u001b[0m\u001b[0mb\u001b[0m\u001b[0;34m]\u001b[0m\u001b[0;34m]\u001b[0m \u001b[0;34m=\u001b[0m \u001b[0mcommom\u001b[0m\u001b[0;34m\u001b[0m\u001b[0m\n",
      "\u001b[0;31mNameError\u001b[0m: name 'common' is not defined"
     ]
    }
   ],
   "source": [
    "rel_scores={}\n",
    "print(str(datetime.datetime.now()))\n",
    "for a in range(1,genlen-1):\n",
    "    a_name = genes[a]\n",
    "    if 0==a%1000:\n",
    "        print(str(a) + ' kept ' + str(len(rel_scores)) +  \" \" + str(datetime.datetime.now()))      \n",
    "    for b in range(a+1, genlen):\n",
    "        product = gene_tissue[a_name] * gene_tissue[genes[b]]\n",
    "        commom =  np.count_nonzero(product)\n",
    "        # limit output\n",
    "        if common == sum(product) :\n",
    "            rel_scores[a_name + ',' + genes[b]] = common\n",
    "\n",
    "print(str(genlen) + ' kept ' + str(len(rel_scores)) +  \" \" + str(datetime.datetime.now()))"
   ]
  },
  {
   "cell_type": "code",
   "execution_count": 142,
   "metadata": {},
   "outputs": [
    {
     "data": {
      "text/plain": [
       "245.03954639941864"
      ]
     },
     "execution_count": 142,
     "metadata": {},
     "output_type": "execute_result"
    }
   ],
   "source": [
    "len(rel_scores)/len(genes)\n"
   ]
  },
  {
   "cell_type": "code",
   "execution_count": 149,
   "metadata": {
    "collapsed": true
   },
   "outputs": [],
   "source": [
    "associated = list(rel_scores.keys())"
   ]
  },
  {
   "cell_type": "code",
   "execution_count": 147,
   "metadata": {},
   "outputs": [],
   "source": [
    "with open('bgee_coexp_network.yaml', 'w') as fh:\n",
    "    yaml.dump(associated, fh)"
   ]
  },
  {
   "cell_type": "code",
   "execution_count": 153,
   "metadata": {},
   "outputs": [
    {
     "data": {
      "text/plain": [
       "['ENSG00000124172', 'ENSG00000265638']"
      ]
     },
     "execution_count": 153,
     "metadata": {},
     "output_type": "execute_result"
    }
   ],
   "source": [
    "list(associated[1].split(','))"
   ]
  },
  {
   "cell_type": "code",
   "execution_count": 266,
   "metadata": {},
   "outputs": [],
   "source": [
    "G = nx.Graph()\n",
    "for edge in associated:\n",
    "    ee=edge.split(',')\n",
    "    G.add_edge(ee[0],ee[1])"
   ]
  },
  {
   "cell_type": "code",
   "execution_count": 157,
   "metadata": {},
   "outputs": [
    {
     "name": "stdout",
     "output_type": "stream",
     "text": [
      "217\n"
     ]
    }
   ],
   "source": [
    "print(nx.number_connected_components(G))"
   ]
  },
  {
   "cell_type": "markdown",
   "metadata": {},
   "source": [
    "__WOW__ exatctly one fewer cluster than the Human Protein Atlas notenook.\n"
   ]
  },
  {
   "cell_type": "code",
   "execution_count": 159,
   "metadata": {
    "collapsed": true
   },
   "outputs": [],
   "source": [
    "clusters = nx.connected_components(G)"
   ]
  },
  {
   "cell_type": "code",
   "execution_count": 164,
   "metadata": {},
   "outputs": [],
   "source": [
    "c = next(clusters)"
   ]
  },
  {
   "cell_type": "code",
   "execution_count": 169,
   "metadata": {},
   "outputs": [
    {
     "name": "stdout",
     "output_type": "stream",
     "text": [
      "OR9I1\n",
      "OR10G9\n",
      "OR8D4\n",
      "RNU6-974P\n",
      "OR10N1P\n",
      "OR10G6\n",
      "OR10G4\n",
      "ENSG00000267478\n",
      "OR4K8P\n",
      "TRIM60P5Y\n",
      "MRPS35P3\n",
      "OR4D5\n",
      "ENSG00000255065\n",
      "ENSG00000250503\n",
      "ENSG00000279666\n",
      "ENSG00000256041\n",
      "ENSG00000259507\n"
     ]
    }
   ],
   "source": [
    "for e in c:\n",
    "    if e in ensg_sym:\n",
    "        print(ensg_sym[e])\n",
    "    else: \n",
    "        print(e)"
   ]
  },
  {
   "cell_type": "code",
   "execution_count": 172,
   "metadata": {},
   "outputs": [
    {
     "data": {
      "text/plain": [
       "['ENSG00000172377',\n",
       " 'ENSG00000198674',\n",
       " 'ENSG00000236981',\n",
       " 'ENSG00000224210',\n",
       " 'ENSG00000181518',\n",
       " 'ENSG00000206826',\n",
       " 'ENSG00000213181',\n",
       " 'ENSG00000254737',\n",
       " 'ENSG00000267478',\n",
       " 'ENSG00000266693',\n",
       " 'ENSG00000270192',\n",
       " 'ENSG00000171014',\n",
       " 'ENSG00000250503',\n",
       " 'ENSG00000279666',\n",
       " 'ENSG00000256041',\n",
       " 'ENSG00000259507']"
      ]
     },
     "execution_count": 172,
     "metadata": {},
     "output_type": "execute_result"
    }
   ],
   "source": [
    "G.neighbors('ENSG00000255065')"
   ]
  },
  {
   "cell_type": "code",
   "execution_count": null,
   "metadata": {
    "collapsed": true
   },
   "outputs": [],
   "source": []
  },
  {
   "cell_type": "code",
   "execution_count": 191,
   "metadata": {},
   "outputs": [],
   "source": [
    "#nx.average_degree_connectivity(G)"
   ]
  },
  {
   "cell_type": "code",
   "execution_count": 192,
   "metadata": {},
   "outputs": [],
   "source": [
    "#nx.average_neighbor_degree(G)"
   ]
  },
  {
   "cell_type": "markdown",
   "metadata": {},
   "source": [
    "keeping only those edges between genes (ENSMBLs)  \n",
    "for which there is no contrary evidence of co-expression  \n",
    "results in an awful lot of edges.  \n",
    "\n",
    "it may be help clarity to filter genes that are ubiquoisly co expressed"
   ]
  },
  {
   "cell_type": "code",
   "execution_count": 189,
   "metadata": {},
   "outputs": [],
   "source": [
    "degree_sequence = sorted(G.degree().items(), key=operator.itemgetter(1),  reverse=True)\n",
    "# sorted(x.items(), key=operator.itemgetter(1))"
   ]
  },
  {
   "cell_type": "code",
   "execution_count": 212,
   "metadata": {},
   "outputs": [
    {
     "data": {
      "image/png": "[encoded data removed]",
      "text/plain": [
       "<matplotlib.figure.Figure at 0x7fa78a010908>"
      ]
     },
     "metadata": {},
     "output_type": "display_data"
    }
   ],
   "source": [
    "# adapted from: \n",
    "# https://networkx.github.io/documentation/stable/auto_examples/drawing/plot_degree_rank.html#sphx-glr-auto-examples-drawing-plot-degree-rank-py\n",
    "plt.plot([d for n,d in degree_sequence], 'b-', marker='o')\n",
    "plt.title(\"Degree rank plot\")\n",
    "plt.ylabel(\"degree\")\n",
    "plt.xlabel(\"rank\")\n",
    "plt.show()"
   ]
  },
  {
   "cell_type": "code",
   "execution_count": 240,
   "metadata": {},
   "outputs": [
    {
     "data": {
      "image/png": "[encoded data removed]",
      "text/plain": [
       "<matplotlib.figure.Figure at 0x7fac58835c18>"
      ]
     },
     "metadata": {},
     "output_type": "display_data"
    }
   ],
   "source": [
    "plt.loglog([d for n,d in degree_sequence], 'b-', marker='o')\n",
    "plt.title(\"Log-Log Degree rank plot\")\n",
    "plt.ylabel(\"degree\")\n",
    "plt.xlabel(\"rank\")\n",
    "plt.show()"
   ]
  },
  {
   "cell_type": "markdown",
   "metadata": {},
   "source": [
    "That looks like the first ten are outregous   \n",
    "then the first thousands (the flat line) very suspect\n",
    "\n",
    "Setting a threshold on degree at 1,000 \n",
    "\n",
    "I wonder if the piece wise nature of the curve reflects \n",
    "different dataset policy and procdures  \n",
    "\n",
    "\n"
   ]
  },
  {
   "cell_type": "code",
   "execution_count": 225,
   "metadata": {},
   "outputs": [],
   "source": [
    "#\n",
    "with open('bgee_rank_degree.txt', 'w') as fh:\n",
    "    fh.write(str([d for n,d in degree_sequence]))"
   ]
  },
  {
   "cell_type": "code",
   "execution_count": 252,
   "metadata": {},
   "outputs": [],
   "source": [
    "# ! tr ',' '\\n' < bgee_rank_degree.txt  | tr -d \"] [\"  | head -200 | grep -n .\n",
    "# G.nodes()[2].rank()\n",
    "# G.degree().items()"
   ]
  },
  {
   "cell_type": "code",
   "execution_count": 261,
   "metadata": {},
   "outputs": [
    {
     "name": "stdout",
     "output_type": "stream",
     "text": [
      "1: removing ENSG00000197989 with 1944 edges\n",
      "2: removing ENSG00000231663 with 1752 edges\n",
      "3: removing ENSG00000198561 with 1001 edges\n",
      "4: removing ENSG00000164983 with 2329 edges\n",
      "5: removing ENSG00000187736 with 1182 edges\n",
      "6: removing ENSG00000052795 with 1957 edges\n",
      "7: removing ENSG00000279089 with 4923 edges\n",
      "8: removing ENSG00000117481 with 2225 edges\n",
      "9: removing ENSG00000164713 with 1957 edges\n",
      "10: removing ENSG00000154710 with 2154 edges\n",
      "11: removing ENSG00000115306 with 1201 edges\n",
      "12: removing ENSG00000173011 with 1002 edges\n",
      "13: removing ENSG00000160766 with 2766 edges\n",
      "14: removing ENSG00000169045 with 1056 edges\n",
      "15: removing ENSG00000063046 with 1050 edges\n",
      "16: removing ENSG00000169021 with 2234 edges\n",
      "17: removing ENSG00000144455 with 1107 edges\n",
      "18: removing ENSG00000198856 with 2164 edges\n",
      "19: removing ENSG00000101421 with 1957 edges\n",
      "20: removing ENSG00000204954 with 2185 edges\n",
      "21: removing ENSG00000180992 with 2336 edges\n",
      "22: removing ENSG00000180822 with 1204 edges\n",
      "23: removing ENSG00000188234 with 1309 edges\n",
      "24: removing ENSG00000221829 with 2151 edges\n",
      "25: removing ENSG00000188243 with 2344 edges\n",
      "26: removing ENSG00000173163 with 2164 edges\n",
      "27: removing ENSG00000175970 with 2040 edges\n",
      "28: removing ENSG00000079313 with 1452 edges\n",
      "29: removing ENSG00000105983 with 2228 edges\n",
      "30: removing ENSG00000088986 with 1038 edges\n",
      "31: removing ENSG00000153130 with 1946 edges\n",
      "32: removing ENSG00000184007 with 1055 edges\n",
      "33: removing ENSG00000022277 with 1076 edges\n",
      "34: removing ENSG00000197608 with 4886 edges\n",
      "35: removing ENSG00000277203 with 1029 edges\n",
      "36: removing ENSG00000153179 with 2020 edges\n",
      "37: removing ENSG00000152117 with 2077 edges\n",
      "38: removing ENSG00000049618 with 1007 edges\n",
      "39: removing ENSG00000196233 with 2043 edges\n",
      "40: removing ENSG00000158483 with 4886 edges\n",
      "41: removing ENSG00000053371 with 1113 edges\n",
      "42: removing ENSG00000196531 with 1245 edges\n",
      "43: removing ENSG00000198865 with 1040 edges\n",
      "44: removing ENSG00000254635 with 1912 edges\n",
      "45: removing ENSG00000140650 with 3880 edges\n",
      "46: removing ENSG00000166598 with 1178 edges\n",
      "47: removing ENSG00000143614 with 2114 edges\n",
      "48: removing ENSG00000111843 with 1957 edges\n",
      "49: removing ENSG00000099246 with 1957 edges\n",
      "50: removing ENSG00000099251 with 4912 edges\n",
      "51: removing ENSG00000122566 with 1168 edges\n",
      "52: removing ENSG00000121022 with 1005 edges\n",
      "53: removing ENSG00000115128 with 1957 edges\n",
      "54: removing ENSG00000138375 with 3738 edges\n",
      "55: removing ENSG00000160194 with 2450 edges\n",
      "56: removing ENSG00000159884 with 1944 edges\n",
      "57: removing ENSG00000244187 with 2453 edges\n",
      "58: removing ENSG00000157020 with 1119 edges\n",
      "59: removing ENSG00000119632 with 1944 edges\n",
      "60: removing ENSG00000156671 with 1115 edges\n",
      "61: removing ENSG00000044115 with 1135 edges\n",
      "62: removing ENSG00000129055 with 1037 edges\n",
      "63: removing ENSG00000274602 with 3812 edges\n",
      "64: removing ENSG00000167526 with 1159 edges\n",
      "65: removing ENSG00000122512 with 4819 edges\n",
      "66: removing ENSG00000166181 with 1143 edges\n",
      "67: removing ENSG00000176894 with 1752 edges\n",
      "68: removing ENSG00000163110 with 1393 edges\n",
      "69: removing ENSG00000279267 with 4923 edges\n",
      "70: removing ENSG00000110321 with 1179 edges\n",
      "71: removing ENSG00000165416 with 2344 edges\n",
      "72: removing ENSG00000278133 with 1944 edges\n",
      "73: removing ENSG00000085644 with 2220 edges\n",
      "74: removing ENSG00000183048 with 4369 edges\n",
      "75: removing ENSG00000148248 with 1957 edges\n",
      "76: removing ENSG00000164414 with 3736 edges\n",
      "77: removing ENSG00000205981 with 1957 edges\n",
      "78: removing ENSG00000162642 with 1957 edges\n",
      "79: removing ENSG00000171311 with 2164 edges\n",
      "80: removing ENSG00000175938 with 1711 edges\n",
      "81: removing ENSG00000143870 with 1145 edges\n",
      "82: removing ENSG00000205089 with 1202 edges\n",
      "83: removing ENSG00000113838 with 4923 edges\n",
      "84: removing ENSG00000188428 with 1889 edges\n",
      "85: removing ENSG00000147684 with 2344 edges\n",
      "86: removing ENSG00000138095 with 1419 edges\n",
      "87: removing ENSG00000180425 with 4409 edges\n",
      "88: removing ENSG00000168297 with 2610 edges\n",
      "89: removing ENSG00000105063 with 1410 edges\n",
      "90: removing ENSG00000106682 with 1055 edges\n",
      "91: removing ENSG00000140006 with 1222 edges\n",
      "92: removing ENSG00000159140 with 1151 edges\n",
      "93: removing ENSG00000118705 with 1028 edges\n",
      "94: removing ENSG00000196497 with 3198 edges\n",
      "95: removing ENSG00000166507 with 4782 edges\n",
      "96: removing ENSG00000198680 with 1957 edges\n",
      "97: removing ENSG00000131943 with 2564 edges\n",
      "98: removing ENSG00000185414 with 1957 edges\n",
      "99: removing ENSG00000100603 with 1037 edges\n",
      "100: removing ENSG00000151893 with 1957 edges\n",
      "101: removing ENSG00000131876 with 3210 edges\n",
      "102: removing ENSG00000113141 with 1037 edges\n",
      "103: removing ENSG00000241837 with 2160 edges\n",
      "104: removing ENSG00000144134 with 1198 edges\n",
      "105: removing ENSG00000113108 with 3823 edges\n",
      "106: removing ENSG00000182670 with 1123 edges\n",
      "107: removing ENSG00000137288 with 1151 edges\n",
      "108: removing ENSG00000107669 with 1984 edges\n",
      "109: removing ENSG00000100353 with 1132 edges\n",
      "110: removing ENSG00000151612 with 1957 edges\n",
      "111: removing ENSG00000134283 with 1957 edges\n",
      "112: removing ENSG00000163605 with 1957 edges\n",
      "113: removing ENSG00000196204 with 3767 edges\n",
      "114: removing ENSG00000128699 with 2164 edges\n",
      "115: removing ENSG00000137692 with 2091 edges\n",
      "116: removing ENSG00000129084 with 2157 edges\n",
      "117: removing ENSG00000274349 with 1092 edges\n",
      "118: removing ENSG00000148672 with 1296 edges\n",
      "119: removing ENSG00000044574 with 1077 edges\n",
      "120: removing ENSG00000146701 with 1004 edges\n",
      "121: removing ENSG00000166986 with 1056 edges\n",
      "122: removing ENSG00000128886 with 1957 edges\n",
      "123: removing ENSG00000138138 with 1957 edges\n",
      "124: removing ENSG00000243927 with 1957 edges\n",
      "125: removing ENSG00000186187 with 1062 edges\n",
      "126: removing ENSG00000186272 with 4827 edges\n",
      "127: removing ENSG00000023734 with 1300 edges\n",
      "128: removing ENSG00000254999 with 1957 edges\n",
      "129: removing ENSG00000135241 with 1946 edges\n",
      "130: removing ENSG00000158987 with 2149 edges\n",
      "131: removing ENSG00000184206 with 4855 edges\n",
      "132: removing ENSG00000106049 with 2164 edges\n",
      "133: removing ENSG00000278600 with 2385 edges\n",
      "134: removing ENSG00000104880 with 1460 edges\n",
      "135: removing ENSG00000275023 with 3114 edges\n",
      "136: removing ENSG00000148335 with 1934 edges\n",
      "137: removing ENSG00000133247 with 1279 edges\n",
      "138: removing ENSG00000128524 with 2160 edges\n",
      "139: removing ENSG00000120509 with 2344 edges\n",
      "140: removing ENSG00000134453 with 1957 edges\n",
      "141: removing ENSG00000182484 with 1071 edges\n",
      "142: removing ENSG00000079974 with 4776 edges\n",
      "143: removing ENSG00000162909 with 1132 edges\n",
      "144: removing ENSG00000170144 with 1132 edges\n",
      "145: removing ENSG00000109536 with 2157 edges\n",
      "146: removing ENSG00000162194 with 3171 edges\n",
      "147: removing ENSG00000206418 with 1863 edges\n",
      "148: removing ENSG00000122643 with 2883 edges\n",
      "149: removing ENSG00000181315 with 4074 edges\n",
      "150: removing ENSG00000165410 with 1957 edges\n",
      "151: removing ENSG00000272316 with 3460 edges\n",
      "152: removing ENSG00000113013 with 1210 edges\n",
      "153: removing ENSG00000092871 with 2040 edges\n",
      "154: removing ENSG00000169446 with 1022 edges\n",
      "155: removing ENSG00000182224 with 2792 edges\n",
      "156: removing ENSG00000197961 with 3386 edges\n",
      "157: removing ENSG00000188878 with 4836 edges\n",
      "158: removing ENSG00000280385 with 4923 edges\n",
      "159: removing ENSG00000178074 with 1066 edges\n",
      "160: removing ENSG00000163382 with 2780 edges\n",
      "161: removing ENSG00000138463 with 2533 edges\n",
      "162: removing ENSG00000075336 with 1957 edges\n",
      "163: removing ENSG00000197746 with 1267 edges\n",
      "164: removing ENSG00000182247 with 1984 edges\n",
      "165: removing ENSG00000182919 with 2711 edges\n",
      "166: removing ENSG00000067560 with 1194 edges\n",
      "167: removing ENSG00000161847 with 1144 edges\n",
      "168: removing ENSG00000104823 with 2160 edges\n",
      "169: removing ENSG00000264364 with 1957 edges\n",
      "170: removing ENSG00000177410 with 1957 edges\n",
      "171: removing ENSG00000197863 with 3421 edges\n",
      "172: removing ENSG00000113811 with 1957 edges\n",
      "173: removing ENSG00000260257 with 2043 edges\n",
      "174: removing ENSG00000037474 with 1957 edges\n",
      "175: removing ENSG00000198753 with 3780 edges\n",
      "176: removing ENSG00000009844 with 1957 edges\n",
      "177: removing ENSG00000170759 with 1045 edges\n",
      "178: removing ENSG00000241360 with 3904 edges\n",
      "179: removing ENSG00000227946 with 2200 edges\n",
      "180: removing ENSG00000144233 with 1722 edges\n",
      "181: removing ENSG00000113971 with 1984 edges\n",
      "182: removing ENSG00000131263 with 1957 edges\n",
      "183: removing ENSG00000271383 with 3808 edges\n",
      "184: removing ENSG00000134352 with 1138 edges\n",
      "185: removing ENSG00000168275 with 1846 edges\n",
      "186: removing ENSG00000114125 with 1224 edges\n",
      "187: removing ENSG00000134308 with 1036 edges\n",
      "188: removing ENSG00000091542 with 2163 edges\n",
      "189: removing ENSG00000211450 with 1957 edges\n",
      "190: removing ENSG00000108654 with 1855 edges\n",
      "191: removing ENSG00000245552 with 2234 edges\n",
      "192: removing ENSG00000275993 with 4349 edges\n",
      "193: removing ENSG00000001631 with 1402 edges\n",
      "194: removing ENSG00000215717 with 1957 edges\n",
      "195: removing ENSG00000196912 with 4385 edges\n",
      "196: removing ENSG00000205707 with 1957 edges\n",
      "197: removing ENSG00000186523 with 1717 edges\n",
      "198: removing ENSG00000134490 with 1187 edges\n",
      "199: removing ENSG00000153406 with 1940 edges\n",
      "200: removing ENSG00000269243 with 1571 edges\n",
      "201: removing ENSG00000129083 with 1112 edges\n",
      "202: removing ENSG00000198786 with 1919 edges\n",
      "203: removing ENSG00000145388 with 1906 edges\n",
      "204: removing ENSG00000198783 with 2344 edges\n",
      "205: removing ENSG00000170421 with 1041 edges\n",
      "206: removing ENSG00000126432 with 1919 edges\n",
      "207: removing ENSG00000113742 with 1957 edges\n",
      "208: removing ENSG00000109332 with 1155 edges\n",
      "209: removing ENSG00000182362 with 2476 edges\n",
      "210: removing ENSG00000174021 with 2157 edges\n",
      "211: removing ENSG00000246174 with 4912 edges\n",
      "212: removing ENSG00000086061 with 1055 edges\n",
      "213: removing ENSG00000068697 with 1019 edges\n",
      "214: removing ENSG00000062582 with 3241 edges\n",
      "215: removing ENSG00000232533 with 2295 edges\n",
      "216: removing ENSG00000060339 with 1912 edges\n",
      "217: removing ENSG00000099290 with 1577 edges\n",
      "218: removing ENSG00000109790 with 1955 edges\n",
      "219: removing ENSG00000264538 with 3780 edges\n",
      "220: removing ENSG00000198874 with 3087 edges\n",
      "221: removing ENSG00000165355 with 2113 edges\n",
      "222: removing ENSG00000166352 with 2694 edges\n",
      "223: removing ENSG00000242372 with 2160 edges\n",
      "224: removing ENSG00000048392 with 1325 edges\n",
      "225: removing ENSG00000135821 with 1273 edges\n",
      "226: removing ENSG00000280734 with 4923 edges\n",
      "227: removing ENSG00000160799 with 1957 edges\n",
      "228: removing ENSG00000136897 with 1946 edges\n",
      "229: removing ENSG00000174173 with 1386 edges\n",
      "230: removing ENSG00000145734 with 1957 edges\n",
      "231: removing ENSG00000176731 with 1944 edges\n",
      "232: removing ENSG00000185000 with 1477 edges\n",
      "233: removing ENSG00000162236 with 2197 edges\n",
      "234: removing ENSG00000264522 with 1912 edges\n",
      "235: removing ENSG00000146223 with 1957 edges\n",
      "236: removing ENSG00000166165 with 2160 edges\n",
      "237: removing ENSG00000136699 with 1717 edges\n",
      "238: removing ENSG00000164032 with 1164 edges\n",
      "239: removing ENSG00000135535 with 1037 edges\n",
      "240: removing ENSG00000186166 with 2387 edges\n",
      "241: removing ENSG00000167881 with 1957 edges\n",
      "242: removing ENSG00000282945 with 3887 edges\n",
      "243: removing ENSG00000148153 with 1957 edges\n",
      "244: removing ENSG00000179933 with 1957 edges\n",
      "245: removing ENSG00000112787 with 2125 edges\n",
      "246: removing ENSG00000109180 with 1957 edges\n",
      "247: removing ENSG00000130741 with 1957 edges\n",
      "248: removing ENSG00000152492 with 1957 edges\n",
      "249: removing ENSG00000139644 with 1166 edges\n",
      "250: removing ENSG00000177565 with 1957 edges\n",
      "251: removing ENSG00000118939 with 2158 edges\n",
      "252: removing ENSG00000153391 with 2381 edges\n",
      "253: removing ENSG00000165637 with 2160 edges\n",
      "254: removing ENSG00000174953 with 1957 edges\n",
      "255: removing ENSG00000275464 with 3031 edges\n",
      "256: removing ENSG00000152520 with 1957 edges\n",
      "257: removing ENSG00000188229 with 1060 edges\n",
      "258: removing ENSG00000080824 with 1331 edges\n",
      "259: removing ENSG00000239672 with 2158 edges\n",
      "260: removing ENSG00000115310 with 1173 edges\n",
      "261: removing ENSG00000282827 with 3820 edges\n",
      "262: removing ENSG00000225151 with 1222 edges\n",
      "263: removing ENSG00000213928 with 3868 edges\n",
      "264: removing ENSG00000196850 with 1957 edges\n",
      "265: removing ENSG00000223496 with 2089 edges\n",
      "266: removing ENSG00000174917 with 2265 edges\n",
      "267: removing ENSG00000225733 with 1957 edges\n",
      "268: removing ENSG00000262814 with 2169 edges\n",
      "269: removing ENSG00000156504 with 1063 edges\n",
      "270: removing ENSG00000127603 with 1151 edges\n",
      "271: removing ENSG00000153944 with 1022 edges\n",
      "272: removing ENSG00000122068 with 2344 edges\n",
      "273: removing ENSG00000116095 with 1849 edges\n",
      "274: removing ENSG00000273306 with 4886 edges\n",
      "275: removing ENSG00000137818 with 2160 edges\n",
      "276: removing ENSG00000168303 with 2164 edges\n",
      "277: removing ENSG00000115875 with 1145 edges\n",
      "278: removing ENSG00000205356 with 2084 edges\n",
      "279: removing ENSG00000272888 with 1957 edges\n",
      "280: removing ENSG00000154263 with 4843 edges\n",
      "281: removing ENSG00000253559 with 4923 edges\n",
      "282: removing ENSG00000182831 with 1957 edges\n",
      "283: removing ENSG00000137449 with 1957 edges\n",
      "284: removing ENSG00000163584 with 2345 edges\n",
      "285: removing ENSG00000228434 with 2398 edges\n",
      "286: removing ENSG00000164916 with 1151 edges\n",
      "287: removing ENSG00000167377 with 3216 edges\n",
      "288: removing ENSG00000115866 with 1144 edges\n",
      "289: removing ENSG00000239789 with 3794 edges\n",
      "290: removing ENSG00000137522 with 1752 edges\n",
      "291: removing ENSG00000175376 with 2171 edges\n",
      "292: removing ENSG00000276886 with 1858 edges\n",
      "293: removing ENSG00000129968 with 4335 edges\n",
      "294: removing ENSG00000184979 with 3912 edges\n",
      "295: removing ENSG00000165119 with 1056 edges\n",
      "296: removing ENSG00000114999 with 1912 edges\n",
      "297: removing ENSG00000169490 with 1957 edges\n",
      "298: removing ENSG00000167967 with 1489 edges\n",
      "299: removing ENSG00000139668 with 1957 edges\n",
      "300: removing ENSG00000172590 with 1957 edges\n",
      "301: removing ENSG00000248333 with 1141 edges\n",
      "302: removing ENSG00000253878 with 4912 edges\n",
      "303: removing ENSG00000164187 with 1946 edges\n",
      "304: removing ENSG00000247556 with 1957 edges\n",
      "305: removing ENSG00000048828 with 1059 edges\n",
      "306: removing ENSG00000096746 with 1001 edges\n",
      "307: removing ENSG00000160075 with 1957 edges\n",
      "308: removing ENSG00000145354 with 1957 edges\n",
      "309: removing ENSG00000184752 with 2344 edges\n",
      "310: removing ENSG00000145743 with 1159 edges\n",
      "311: removing ENSG00000108861 with 1044 edges\n",
      "312: removing ENSG00000165630 with 3812 edges\n",
      "313: removing ENSG00000082146 with 3746 edges\n",
      "314: removing ENSG00000006453 with 1726 edges\n",
      "315: removing ENSG00000213658 with 4656 edges\n",
      "316: removing ENSG00000146282 with 2344 edges\n",
      "317: removing ENSG00000152234 with 1295 edges\n",
      "318: removing ENSG00000100209 with 2149 edges\n",
      "319: removing ENSG00000121274 with 1957 edges\n",
      "320: removing ENSG00000205765 with 1007 edges\n",
      "321: removing ENSG00000267519 with 2001 edges\n",
      "322: removing ENSG00000197620 with 3771 edges\n",
      "323: removing ENSG00000135437 with 3769 edges\n",
      "324: removing ENSG00000184182 with 1957 edges\n",
      "325: removing ENSG00000134056 with 1957 edges\n",
      "326: removing ENSG00000170185 with 1946 edges\n",
      "327: removing ENSG00000152620 with 1187 edges\n",
      "328: removing ENSG00000131043 with 4385 edges\n",
      "329: removing ENSG00000168894 with 2164 edges\n",
      "330: removing ENSG00000172428 with 1957 edges\n",
      "331: removing ENSG00000062194 with 1957 edges\n",
      "332: removing ENSG00000111639 with 1957 edges\n",
      "333: removing ENSG00000272391 with 1102 edges\n",
      "334: removing ENSG00000168172 with 1061 edges\n",
      "335: removing ENSG00000156374 with 1219 edges\n",
      "336: removing ENSG00000136527 with 1112 edges\n",
      "337: removing ENSG00000225526 with 1223 edges\n",
      "338: removing ENSG00000104886 with 3184 edges\n",
      "339: removing ENSG00000102699 with 1435 edges\n",
      "340: removing ENSG00000244479 with 4912 edges\n",
      "341: removing ENSG00000087460 with 1246 edges\n",
      "342: removing ENSG00000100650 with 1080 edges\n",
      "343: removing ENSG00000160336 with 4912 edges\n",
      "344: removing ENSG00000171862 with 1957 edges\n",
      "345: removing ENSG00000243725 with 3213 edges\n",
      "346: removing ENSG00000140265 with 1014 edges\n",
      "347: removing ENSG00000123144 with 1957 edges\n",
      "348: removing ENSG00000187051 with 1855 edges\n",
      "349: removing ENSG00000100201 with 1226 edges\n",
      "350: removing ENSG00000103769 with 1056 edges\n",
      "351: removing ENSG00000147364 with 2344 edges\n",
      "352: removing ENSG00000198886 with 1957 edges\n",
      "353: removing ENSG00000167702 with 1103 edges\n",
      "354: removing ENSG00000162961 with 1957 edges\n",
      "355: removing ENSG00000213599 with 1466 edges\n",
      "356: removing ENSG00000183785 with 3811 edges\n",
      "357: removing ENSG00000082641 with 1127 edges\n",
      "358: removing ENSG00000163754 with 1293 edges\n",
      "359: removing ENSG00000147140 with 2160 edges\n",
      "360: removing ENSG00000137710 with 1072 edges\n",
      "361: removing ENSG00000152439 with 3811 edges\n",
      "362: removing ENSG00000178381 with 1865 edges\n",
      "363: removing ENSG00000178229 with 4790 edges\n",
      "364: removing ENSG00000019995 with 1957 edges\n",
      "365: removing ENSG00000165494 with 1976 edges\n",
      "366: removing ENSG00000072274 with 1167 edges\n",
      "367: removing ENSG00000132475 with 1057 edges\n",
      "368: removing ENSG00000272414 with 4367 edges\n",
      "369: removing ENSG00000172661 with 2933 edges\n",
      "370: removing ENSG00000156384 with 1958 edges\n",
      "371: removing ENSG00000167705 with 1205 edges\n",
      "372: removing ENSG00000148296 with 2524 edges\n",
      "373: removing ENSG00000119523 with 1414 edges\n",
      "374: removing ENSG00000278730 with 2265 edges\n",
      "375: removing ENSG00000270039 with 2234 edges\n",
      "376: removing ENSG00000100410 with 3020 edges\n",
      "377: removing ENSG00000065150 with 1235 edges\n",
      "378: removing ENSG00000197114 with 3739 edges\n",
      "379: removing ENSG00000111266 with 2542 edges\n",
      "380: removing ENSG00000144746 with 1334 edges\n",
      "381: removing ENSG00000185495 with 3820 edges\n",
      "382: removing ENSG00000154144 with 2089 edges\n",
      "383: removing ENSG00000116171 with 1045 edges\n",
      "384: removing ENSG00000173409 with 2344 edges\n",
      "385: removing ENSG00000181038 with 1957 edges\n",
      "386: removing ENSG00000163798 with 3269 edges\n",
      "387: removing ENSG00000165006 with 1025 edges\n",
      "388: removing ENSG00000163093 with 3164 edges\n",
      "389: removing ENSG00000124593 with 4912 edges\n",
      "390: removing ENSG00000143553 with 1957 edges\n",
      "391: removing ENSG00000156599 with 1106 edges\n",
      "392: removing ENSG00000164902 with 1912 edges\n",
      "393: removing ENSG00000152332 with 1151 edges\n",
      "394: removing ENSG00000196562 with 1957 edges\n",
      "395: removing ENSG00000156976 with 1221 edges\n",
      "396: removing ENSG00000198355 with 1323 edges\n",
      "397: removing ENSG00000168710 with 1049 edges\n",
      "398: removing ENSG00000183172 with 1957 edges\n",
      "399: removing ENSG00000143970 with 1004 edges\n",
      "400: removing ENSG00000149925 with 1100 edges\n",
      "401: removing ENSG00000269858 with 3129 edges\n",
      "402: removing ENSG00000147996 with 3196 edges\n",
      "403: removing ENSG00000131013 with 2856 edges\n",
      "404: removing ENSG00000173726 with 1001 edges\n",
      "405: removing ENSG00000176124 with 3137 edges\n",
      "406: removing ENSG00000234545 with 2474 edges\n",
      "407: removing ENSG00000173875 with 1957 edges\n",
      "408: removing ENSG00000138600 with 1957 edges\n",
      "409: removing ENSG00000275700 with 2160 edges\n",
      "410: removing ENSG00000163683 with 1957 edges\n",
      "411: removing ENSG00000187961 with 3200 edges\n",
      "412: removing ENSG00000156050 with 1912 edges\n",
      "413: removing ENSG00000232442 with 2234 edges\n",
      "414: removing ENSG00000119673 with 1023 edges\n",
      "415: removing ENSG00000111237 with 2164 edges\n",
      "416: removing ENSG00000134049 with 1957 edges\n",
      "417: removing ENSG00000125457 with 1025 edges\n",
      "418: removing ENSG00000182552 with 1171 edges\n",
      "419: removing ENSG00000139370 with 1957 edges\n",
      "420: removing ENSG00000174827 with 1282 edges\n",
      "421: removing ENSG00000183723 with 2814 edges\n",
      "422: removing ENSG00000175395 with 2387 edges\n",
      "423: removing ENSG00000171421 with 1957 edges\n",
      "424: removing ENSG00000149357 with 2164 edges\n",
      "425: removing ENSG00000185219 with 1914 edges\n",
      "426: removing ENSG00000182768 with 1957 edges\n",
      "427: removing ENSG00000151611 with 2232 edges\n",
      "428: removing ENSG00000157224 with 2022 edges\n",
      "429: removing ENSG00000205423 with 2089 edges\n",
      "430: removing ENSG00000132341 with 1201 edges\n",
      "431: removing ENSG00000134644 with 1108 edges\n",
      "432: removing ENSG00000132485 with 1957 edges\n",
      "433: removing ENSG00000236901 with 1049 edges\n",
      "434: removing ENSG00000165934 with 2164 edges\n",
      "435: removing ENSG00000129226 with 1664 edges\n",
      "436: removing ENSG00000109475 with 2160 edges\n",
      "437: removing ENSG00000140406 with 2757 edges\n",
      "438: removing ENSG00000164053 with 4836 edges\n",
      "439: removing ENSG00000173418 with 1957 edges\n",
      "440: removing ENSG00000135720 with 1056 edges\n",
      "441: removing ENSG00000104774 with 4333 edges\n",
      "442: removing ENSG00000262919 with 1957 edges\n",
      "443: removing ENSG00000090621 with 2160 edges\n",
      "444: removing ENSG00000174483 with 2147 edges\n",
      "445: removing ENSG00000115816 with 2154 edges\n",
      "446: removing ENSG00000135334 with 2149 edges\n",
      "447: removing ENSG00000121851 with 3205 edges\n",
      "448: removing ENSG00000213380 with 2610 edges\n",
      "449: removing ENSG00000178425 with 1946 edges\n",
      "450: removing ENSG00000120071 with 1957 edges\n",
      "451: removing ENSG00000134330 with 1007 edges\n",
      "452: removing ENSG00000119328 with 1108 edges\n",
      "453: removing ENSG00000260254 with 4530 edges\n",
      "454: removing ENSG00000155744 with 1061 edges\n",
      "455: removing ENSG00000049656 with 2344 edges\n",
      "456: removing ENSG00000122557 with 1957 edges\n",
      "457: removing ENSG00000103335 with 2703 edges\n",
      "458: removing ENSG00000136522 with 1957 edges\n",
      "459: removing ENSG00000179010 with 1957 edges\n",
      "460: removing ENSG00000196417 with 1089 edges\n",
      "461: removing ENSG00000168906 with 1187 edges\n",
      "462: removing ENSG00000124422 with 1053 edges\n",
      "463: removing ENSG00000140990 with 2344 edges\n",
      "464: removing ENSG00000114861 with 1957 edges\n",
      "465: removing ENSG00000132406 with 1957 edges\n",
      "466: removing ENSG00000163701 with 4379 edges\n",
      "467: removing ENSG00000198168 with 1957 edges\n",
      "468: removing ENSG00000120616 with 1957 edges\n",
      "469: removing ENSG00000135506 with 1024 edges\n",
      "470: removing ENSG00000278742 with 2717 edges\n",
      "471: removing ENSG00000163807 with 1957 edges\n",
      "472: removing ENSG00000163170 with 1080 edges\n",
      "473: removing ENSG00000163162 with 2164 edges\n",
      "474: removing ENSG00000143612 with 1957 edges\n",
      "475: removing ENSG00000165997 with 2345 edges\n",
      "476: removing ENSG00000180185 with 2043 edges\n",
      "477: removing ENSG00000074266 with 2157 edges\n",
      "478: removing ENSG00000198818 with 1957 edges\n",
      "479: removing ENSG00000161016 with 2160 edges\n",
      "480: removing ENSG00000197050 with 1912 edges\n",
      "481: removing ENSG00000196507 with 1957 edges\n",
      "482: removing ENSG00000133393 with 1957 edges\n",
      "483: removing ENSG00000038358 with 1134 edges\n",
      "484: removing ENSG00000154957 with 3196 edges\n",
      "485: removing ENSG00000266472 with 2344 edges\n",
      "486: removing ENSG00000015479 with 2234 edges\n",
      "487: removing ENSG00000264577 with 1851 edges\n",
      "488: removing ENSG00000163527 with 2344 edges\n",
      "489: removing ENSG00000217128 with 1227 edges\n",
      "490: removing ENSG00000281766 with 3043 edges\n",
      "491: removing ENSG00000174839 with 1151 edges\n",
      "492: removing ENSG00000125901 with 2344 edges\n",
      "493: removing ENSG00000117592 with 1319 edges\n",
      "494: removing ENSG00000099622 with 1090 edges\n",
      "495: removing ENSG00000198668 with 1096 edges\n"
     ]
    }
   ],
   "source": [
    "k=0\n",
    "for n, r in  G.degree().items(): \n",
    "    if r > 1000:\n",
    "        k+=1\n",
    "        print(str(k) + \": removing \" + n + \" with \" + str(r)  + \" edges\") \n",
    "        G.remove_node(n)"
   ]
  },
  {
   "cell_type": "code",
   "execution_count": 265,
   "metadata": {},
   "outputs": [
    {
     "data": {
      "image/png": "[encoded data removed]",
      "text/plain": [
       "<matplotlib.figure.Figure at 0x7fac58627a90>"
      ]
     },
     "metadata": {},
     "output_type": "display_data"
    }
   ],
   "source": [
    "plt.plot([d for n,d in sorted(G.degree().items(), key=operator.itemgetter(1),  reverse=True)], 'b-', marker='o')\n",
    "plt.title(\"Degree rank plot\")\n",
    "plt.ylabel(\"degree\")\n",
    "plt.xlabel(\"rank\")\n",
    "plt.show()"
   ]
  }
 ],
 "metadata": {
  "kernelspec": {
   "display_name": "Python 3",
   "language": "python",
   "name": "python3"
  },
  "language_info": {
   "codemirror_mode": {
    "name": "ipython",
    "version": 3
   },
   "file_extension": ".py",
   "mimetype": "text/x-python",
   "name": "python",
   "nbconvert_exporter": "python",
   "pygments_lexer": "ipython3",
   "version": "3.5.2"
  }
 },
 "nbformat": 4,
 "nbformat_minor": 2
}
