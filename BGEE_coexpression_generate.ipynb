{
 "cells": [
  {
   "cell_type": "markdown",
   "metadata": {},
   "source": [
    "Here we are basicly replicating my [Human Protein Atlas coexpression](https://github.com/TomConlin/human_protein_atlas_coexpression) notebook but with BGEE expression data"
   ]
  },
  {
   "cell_type": "code",
   "execution_count": 185,
   "metadata": {
    "collapsed": true
   },
   "outputs": [],
   "source": [
    "import csv\n",
    "import re\n",
    "#import array\n",
    "import numpy as np\n",
    "import matplotlib.pyplot as plt\n",
    "import statistics\n",
    "import requests\n",
    "import json\n",
    "import yaml\n",
    "import re\n",
    "import os\n",
    "import networkx as nx\n",
    "import datetime\n",
    "import operator"
   ]
  },
  {
   "cell_type": "code",
   "execution_count": 2,
   "metadata": {},
   "outputs": [],
   "source": [
    "\n",
    "# reduce ordered catagories to numbers \n",
    "levels = {\n",
    "    'absent' : -1,\n",
    "    'present': 1\n",
    "}\n",
    "\n",
    "reliabilities = {\n",
    "    'gold quality' : 2,\n",
    "    'silver quality' : 1,\n",
    "    'bronze quality' : 0\n",
    "}"
   ]
  },
  {
   "cell_type": "markdown",
   "metadata": {},
   "source": [
    "Nomenclature maintaince has to happen somewhere  \n",
    "Either early or late.  \n",
    "Although Ensembl is very lilely to be current     \n",
    "Monarch tends to standardise on NCBIGene IDs for other things \n",
    "\n",
    "[HGNC API doc](https://www.genenames.org/help/rest-web-service-help)  \n",
    "and  \n",
    "[Bulk Download](https://www.genenames.org/cgi-bin/download)\n",
    "\n",
    "in this process, the time to convert ids and symbols is after\n",
    "the set of tissue is associated with a gene  \n",
    "b/w then it is once per profile, instead of per measurement."
   ]
  },
  {
   "cell_type": "code",
   "execution_count": 33,
   "metadata": {},
   "outputs": [],
   "source": [
    "# https://www.genenames.org/cgi-bin/download?\n",
    "# col=gd_app_sym\n",
    "# col=gd_pub_eg_id\n",
    "# col=gd_pub_ensembl_id\n",
    "# col=md_eg_id&\n",
    "# col=md_ensembl_id\n",
    "# status=Approved\n",
    "# status_opt=2\n",
    "# order_by=gd_pub_eg_id\n",
    "# format=text\n",
    "# submit=submit\n",
    "\n",
    "HGNCURL='http://www.genenames.org/cgi-bin/download?'\n",
    "\n",
    "query = \"&\".join([\n",
    "    'col=gd_pub_ensembl_id',\n",
    "    'col=md_ensembl_id',\n",
    "    'col=gd_pub_eg_id',\n",
    "    'col=md_eg_id',\n",
    "    'col=gd_app_sym',\n",
    "    'order_by=gd_pub_ensembl_id',\n",
    "    'status=Approved',\n",
    "    'status_opt=2',\n",
    "    'format=text',\n",
    "    'submit=submit'\n",
    "])"
   ]
  },
  {
   "cell_type": "code",
   "execution_count": 34,
   "metadata": {},
   "outputs": [],
   "source": [
    "response = requests.get(HGNCURL + query)"
   ]
  },
  {
   "cell_type": "code",
   "execution_count": 35,
   "metadata": {},
   "outputs": [],
   "source": [
    "if response.status_code == requests.codes.ok:\n",
    "    hgnc = response.text.splitlines()\n",
    "    hgnc.pop(0)  # header\n",
    "else: \n",
    "    print('ERROR ' + response.url + ' returned '+ str(response.status_code))"
   ]
  },
  {
   "cell_type": "code",
   "execution_count": 48,
   "metadata": {},
   "outputs": [],
   "source": [
    "ensg_sym = {}  # in case there are any not mapped to ncbi as well\n",
    "ensg_ncbi = {}\n",
    "ncbi_sym = {}\n",
    "\n",
    "sym_ncbi = {}\n",
    "\n",
    "for line in hgnc:\n",
    "    (ens1, ens2, eg1, eg2, symbol) = re.split(r'\\t',line)\n",
    "    ensg = ens2 if ens1 == '' else ens1\n",
    "    ncbi = eg2 if eg1 == '' else eg1    \n",
    "    if ensg != '': \n",
    "        ensg_sym[ensg] = symbol\n",
    "        if ncbi != '':\n",
    "            ensg_ncbi[ensg] = ncbi\n",
    "    if ncbi != '':\n",
    "        ncbi_sym[ncbi] = symbol\n",
    "        sym_ncbi[symbol] = ncbi"
   ]
  },
  {
   "cell_type": "code",
   "execution_count": 44,
   "metadata": {},
   "outputs": [
    {
     "data": {
      "text/plain": [
       "36863"
      ]
     },
     "execution_count": 44,
     "metadata": {},
     "output_type": "execute_result"
    }
   ],
   "source": [
    "len(ensg_sym)"
   ]
  },
  {
   "cell_type": "code",
   "execution_count": 49,
   "metadata": {},
   "outputs": [
    {
     "data": {
      "text/plain": [
       "41139"
      ]
     },
     "execution_count": 49,
     "metadata": {},
     "output_type": "execute_result"
    }
   ],
   "source": [
    "len(ncbi_sym) "
   ]
  },
  {
   "cell_type": "code",
   "execution_count": 46,
   "metadata": {},
   "outputs": [
    {
     "data": {
      "text/plain": [
       "36841"
      ]
     },
     "execution_count": 46,
     "metadata": {},
     "output_type": "execute_result"
    }
   ],
   "source": [
    "len(ensg_ncbi)"
   ]
  },
  {
   "cell_type": "markdown",
   "metadata": {},
   "source": [
    "As feared thare are tens of thousands of these measurements won't map directly back to something we can integreate, but it is still important to process them all because if something comes up as interesting, one could at least go back to the underlying sequence.  \n",
    "\n",
    "note: we can (should) never get an empty gene symbol from the nomenclature athority\n",
    "\n",
    "as there are slightly more ensembl->symbol than ensembl->ncbi  \n",
    " - first try ensembl->symbol   \n",
    " - then ensembl->ncbi->symbol "
   ]
  },
  {
   "cell_type": "code",
   "execution_count": 59,
   "metadata": {},
   "outputs": [],
   "source": [
    "with open('ensgid_symbol_hgnc.yaml', 'w') as fh:\n",
    "    yaml.dump(ensg_sym, fh)\n",
    "with open('ncbi_symbol_hgnc.yaml', 'w') as fh:\n",
    "    yaml.dump(ncbi_sym, fh)    \n",
    "with open('ensg_ncbi.yaml', 'w') as fh:\n",
    "    yaml.dump(ensg_ncbi, fh) "
   ]
  },
  {
   "cell_type": "markdown",
   "metadata": {},
   "source": [
    "use the tissue measurement frequency to set the order for tissue profile recording\n"
   ]
  },
  {
   "cell_type": "code",
   "execution_count": 70,
   "metadata": {},
   "outputs": [],
   "source": [
    "file = 'tissue_count.tab' \n",
    "# count tissue_id\n",
    "tissue_index = {}\n",
    "with open(file, newline='') as csvfile:\n",
    "    csvreader = csv.reader(csvfile, delimiter='\\t')\n",
    "    #csvreader.__next__()  # header\n",
    "    line_number = 0\n",
    "    for line in csvreader:\n",
    "        (count, tissue_id) = line\n",
    "        tissue_index[tissue_id] = line_number\n",
    "        line_number += 1\n",
    "tissue_length = len(tissue_index)        "
   ]
  },
  {
   "cell_type": "code",
   "execution_count": 88,
   "metadata": {},
   "outputs": [],
   "source": [
    "file = 'Homo_sapiens_expr_simple.tsv'\n",
    "#1:Gene ID\n",
    "#2:\"Gene name\"\n",
    "#3:Anatomical entity ID\n",
    "#4:\"Anatomical entity name\"\n",
    "#5:Expression\n",
    "#6:Call quality\n",
    "#7:Expression rank\n",
    "\n",
    "# make places to stash stuff \n",
    "gene_tissue = {}\n",
    "#gene_tissue_rank_curve = {}\n",
    "tissue_names = {}\n",
    "gene_names = {}\n",
    "\n",
    "with open(file, newline='') as csvfile:\n",
    "    csvreader = csv.reader(csvfile, delimiter='\\t', quotechar='\"')\n",
    "    csvreader.__next__()  # header\n",
    "    for line in csvreader:\n",
    "        # print(line)\n",
    "        (gene_id, gene_name, tissue_id, tissue_name, level, reliability, rank) = line\n",
    "        \n",
    "        # record the measurement   \n",
    "        if gene_id in gene_tissue:\n",
    "            gene_tissue[gene_id][tissue_index[tissue_id]] = levels[level]\n",
    "        else:\n",
    "            gene_tissue[gene_id] = np.array([0] * tissue_length)\n",
    "            gene_tissue[gene_id][tissue_index[tissue_id]] = levels[level]\n",
    "\n",
    "        # save human friendly tissue label \n",
    "        if tissue_id not in tissue_names:\n",
    "            tissue_names[tissue_id] = tissue_name\n",
    "        \n",
    "        # save human friendly gene symbol \n",
    "        if gene_id not in gene_names:\n",
    "            gene_names[gene_id] = gene_name"
   ]
  },
  {
   "cell_type": "code",
   "execution_count": 73,
   "metadata": {
    "collapsed": true
   },
   "outputs": [],
   "source": [
    "# update gene symbols\n",
    "for gene_id in gene_tissue:\n",
    "      # try to bring gene info up to date\n",
    "        if gene_id in ensg_sym and gene_name != gene_names[gene_id]:\n",
    "            print('NOTE: '+ ensg_sym[gene_id]+ ' is replacing ' + gene_names[gene_id] + ' b/c ' + gene_id)\n",
    "            gene_names[gene_id] = ensg_sym[gene_id]\n",
    "        elif gene_id in ensg_ncbi and ensg_ncbi[gene_id] in ncbi_sym \\\n",
    "                and  gene_names[gene_id] != ncbi_sym[ensg_ncbi[gene_id]]:\n",
    "            print('NOTE: '+ ncbi_sym[ensg_ncbi[gene_id]] + ' is replacing ' + gene_name + ' b/c ' + gene_id + ' -> ' + ensg_ncbi[gene_id])\n",
    "            gene_names[gene_id] = ncbi_sym[ensg_ncbi[gene_id]]\n"
   ]
  },
  {
   "cell_type": "code",
   "execution_count": 80,
   "metadata": {},
   "outputs": [
    {
     "data": {
      "text/plain": [
       "59171"
      ]
     },
     "execution_count": 80,
     "metadata": {},
     "output_type": "execute_result"
    }
   ],
   "source": [
    "len(gene_tissue)"
   ]
  },
  {
   "cell_type": "code",
   "execution_count": 91,
   "metadata": {},
   "outputs": [
    {
     "data": {
      "text/plain": [
       "188"
      ]
     },
     "execution_count": 91,
     "metadata": {},
     "output_type": "execute_result"
    }
   ],
   "source": [
    "sum(gene_tissue['ENSG00000002330'] * gene_tissue['ENSG00000003402'])"
   ]
  },
  {
   "cell_type": "code",
   "execution_count": 90,
   "metadata": {},
   "outputs": [
    {
     "data": {
      "text/plain": [
       "188"
      ]
     },
     "execution_count": 90,
     "metadata": {},
     "output_type": "execute_result"
    }
   ],
   "source": [
    "np.dot(gene_tissue['ENSG00000002330'], gene_tissue['ENSG00000003402'])"
   ]
  },
  {
   "cell_type": "code",
   "execution_count": 97,
   "metadata": {},
   "outputs": [
    {
     "data": {
      "text/plain": [
       "0.73151750972762641"
      ]
     },
     "execution_count": 97,
     "metadata": {},
     "output_type": "execute_result"
    }
   ],
   "source": [
    "np.dot(gene_tissue['ENSG00000002330'], gene_tissue['ENSG00000003402'])/min(np.count_nonzero(gene_tissue['ENSG00000002330']),np.count_nonzero(gene_tissue['ENSG00000003402']))"
   ]
  },
  {
   "cell_type": "markdown",
   "metadata": {},
   "source": [
    "With this relative scoring scheme I am trying to normalize based only the reported measures\n",
    "that is; an unreported measurement is not counted as penalty alowing more \"perfect matches\"  \n",
    "\n",
    "however since this normalization is unique for each pair of genes  \n",
    "it means comparing scores between different pairs is not as meaningful.\n"
   ]
  },
  {
   "cell_type": "code",
   "execution_count": 98,
   "metadata": {},
   "outputs": [
    {
     "data": {
      "text/plain": [
       "0.60256410256410253"
      ]
     },
     "execution_count": 98,
     "metadata": {},
     "output_type": "execute_result"
    }
   ],
   "source": [
    "np.dot(gene_tissue['ENSG00000002330'], gene_tissue['ENSG00000003402'])/len(gene_tissue['ENSG00000003402'])"
   ]
  },
  {
   "cell_type": "markdown",
   "metadata": {},
   "source": [
    "this \"absolute\" normalizing does allow different pairs to be compared, but I expect vanishingly few will top out even if they agree on all available points.\n",
    "\n",
    "Probably keep both, and use the relative score to surface interesting associations \n",
    "and the absolute to give people something they can compare. "
   ]
  },
  {
   "cell_type": "markdown",
   "metadata": {},
   "source": [
    "  !# Try to find NCBIGene_id for Ensenbl_ID\n",
    "        # try to convert ids from ensembl to ncbi \n",
    "        gene_id = ensg_ncbi[gene_id] if gene_id in ensg_ncbi else gene_id\n",
    "\n",
    "        !# last gasp conversion based on gene symbol\n",
    "        if gene_id == ensg and gene_name in sym_ncbi:\n",
    "            # print('WARN: ' + sym_ncbi[gene_name] + ' is replacing '+ ensg + ' b/c '+ gene_name)\n",
    "            gene_id = sym_ncbi[gene_name]"
   ]
  },
  {
   "cell_type": "code",
   "execution_count": 101,
   "metadata": {},
   "outputs": [],
   "source": [
    "# save a copy \n",
    "#with open('gene_tissue_curve.yaml', 'w') as fh:\n",
    "#    yaml.dump(gene_tissue, fh)\n",
    "# Ack! can't dump numpy arrays like this they are binary   \n",
    "\n",
    "# gene_tissue.savetext('gene_tissue_curve.txt')\n",
    "# nor like that because the container is not numpy "
   ]
  },
  {
   "cell_type": "code",
   "execution_count": 108,
   "metadata": {},
   "outputs": [
    {
     "data": {
      "text/plain": [
       "'ENSG00000133055'"
      ]
     },
     "execution_count": 108,
     "metadata": {},
     "output_type": "execute_result"
    }
   ],
   "source": [
    "genes = list(gene_tissue) # need a fixed order\n",
    "genlen = len(genes)\n",
    "gtlen = len(gene_tissue[genes[1]])\n",
    "genes[1]\n",
    "\n",
    "# note: thanks to the opaqueness of the datastructures \n",
    "# we have no idea how we are hopping around in memory\n",
    "# while marching straight down this list."
   ]
  },
  {
   "cell_type": "markdown",
   "metadata": {},
   "source": [
    "((59172^2)/2)-59172 == 1,750,603,620\n",
    "\n",
    "1.75  billion comparisons involving pairs vectors with 300 values each\n",
    "\n",
    "maybe I should switch to Julia for this next part."
   ]
  },
  {
   "cell_type": "code",
   "execution_count": null,
   "metadata": {
    "collapsed": true
   },
   "outputs": [],
   "source": [
    "rel_scores = {}\n",
    "abs_scores = {} # ditching b/c memory"
   ]
  },
  {
   "cell_type": "code",
   "execution_count": 140,
   "metadata": {},
   "outputs": [
    {
     "name": "stdout",
     "output_type": "stream",
     "text": [
      "2017-10-04 16:06:07.104997\n",
      "1000 kept 496616 2017-10-04 16:11:13.778945\n",
      "2000 kept 876884 2017-10-04 16:16:09.217286\n",
      "3000 kept 1407835 2017-10-04 16:20:57.918485\n",
      "4000 kept 1810228 2017-10-04 16:25:41.818770\n",
      "5000 kept 2277146 2017-10-04 16:30:19.067476\n",
      "6000 kept 2784735 2017-10-04 16:34:51.636177\n",
      "7000 kept 3244403 2017-10-04 16:39:21.783721\n",
      "8000 kept 3648717 2017-10-04 16:43:46.483050\n",
      "9000 kept 4077574 2017-10-04 16:48:07.207725\n",
      "10000 kept 4529405 2017-10-04 16:52:22.135506\n",
      "11000 kept 4923828 2017-10-04 16:56:31.168215\n",
      "12000 kept 5297786 2017-10-04 17:00:36.715131\n",
      "13000 kept 5687687 2017-10-04 17:04:36.369721\n",
      "14000 kept 6053430 2017-10-04 17:08:31.193854\n",
      "15000 kept 6415395 2017-10-04 17:12:17.699432\n",
      "16000 kept 6725379 2017-10-04 17:16:01.367722\n",
      "17000 kept 7074975 2017-10-04 17:19:41.093732\n",
      "18000 kept 7383087 2017-10-04 17:23:13.743138\n",
      "19000 kept 7718469 2017-10-04 17:26:40.282185\n",
      "20000 kept 8008436 2017-10-04 17:30:02.320528\n",
      "21000 kept 8300997 2017-10-04 17:33:21.260599\n",
      "22000 kept 8614633 2017-10-04 17:36:36.180375\n",
      "23000 kept 8945982 2017-10-04 17:39:45.066209\n",
      "24000 kept 9230254 2017-10-04 17:42:47.108446\n",
      "25000 kept 9504649 2017-10-04 17:45:43.744593\n",
      "26000 kept 9787199 2017-10-04 17:48:35.462423\n",
      "27000 kept 10041162 2017-10-04 17:51:21.660590\n",
      "28000 kept 10279273 2017-10-04 17:54:02.719354\n",
      "29000 kept 10532364 2017-10-04 17:56:40.485575\n",
      "30000 kept 10800645 2017-10-04 17:59:10.828104\n",
      "31000 kept 11046146 2017-10-04 18:01:34.972518\n",
      "32000 kept 11323216 2017-10-04 18:03:54.748702\n",
      "33000 kept 11598971 2017-10-04 18:06:08.819242\n",
      "34000 kept 11828420 2017-10-04 18:08:17.717328\n",
      "35000 kept 12069668 2017-10-04 18:10:21.702667\n",
      "36000 kept 12281291 2017-10-04 18:12:20.425149\n",
      "37000 kept 12522861 2017-10-04 18:14:14.296206\n",
      "38000 kept 12722915 2017-10-04 18:16:03.390663\n",
      "39000 kept 12875317 2017-10-04 18:17:49.230276\n",
      "40000 kept 13032539 2017-10-04 18:19:28.181287\n",
      "41000 kept 13166661 2017-10-04 18:21:02.050922\n",
      "42000 kept 13307949 2017-10-04 18:22:30.816875\n",
      "43000 kept 13428660 2017-10-04 18:23:54.543791\n",
      "44000 kept 13551131 2017-10-04 18:25:12.779415\n",
      "45000 kept 13662409 2017-10-04 18:26:26.044397\n",
      "46000 kept 13778811 2017-10-04 18:27:34.499379\n",
      "47000 kept 13870510 2017-10-04 18:28:37.872575\n",
      "48000 kept 13979829 2017-10-04 18:29:36.673917\n",
      "49000 kept 14079605 2017-10-04 18:30:30.657929\n",
      "50000 kept 14178554 2017-10-04 18:31:19.659703\n",
      "51000 kept 14248455 2017-10-04 18:32:03.403772\n",
      "52000 kept 14303506 2017-10-04 18:32:42.104431\n",
      "53000 kept 14352112 2017-10-04 18:33:15.795168\n",
      "54000 kept 14397823 2017-10-04 18:33:44.429573\n",
      "55000 kept 14431816 2017-10-04 18:34:08.084112\n",
      "56000 kept 14464454 2017-10-04 18:34:26.555828\n",
      "57000 kept 14483495 2017-10-04 18:34:39.906182\n",
      "58000 kept 14493821 2017-10-04 18:34:48.108356\n",
      "59000 kept 14499120 2017-10-04 18:34:51.219672\n"
     ]
    }
   ],
   "source": [
    "\n",
    "#before =  datetime.datetime.now()\n",
    "print(str(datetime.datetime.now()))\n",
    "for a in range(1,genlen-1):\n",
    "    a_name = genes[a]\n",
    "    anz = np.count_nonzero(gene_tissue[a_name])\n",
    "    if 0==a%1000:\n",
    "        print(str(a) + ' kept ' + str(len(rel_scores)) +  \" \" + str(datetime.datetime.now()))\n",
    "        #before =  datetime.datetime.now()      \n",
    "    for b in range(a+1, genlen):\n",
    "        key = a_name + ',' + genes[b]\n",
    "        dot_ab = np.dot(gene_tissue[a_name], gene_tissue[genes[b]])\n",
    "        #abs_scores[key] = dot_ab/gtlen\n",
    "        rscore = dot_ab/min(anz,np.count_nonzero(gene_tissue[genes[b]]))\n",
    "        # limit output\n",
    "        if rscore == 1.0 :\n",
    "            rel_scores[key] = rscore\n"
   ]
  },
  {
   "cell_type": "code",
   "execution_count": 142,
   "metadata": {},
   "outputs": [
    {
     "data": {
      "text/plain": [
       "245.03954639941864"
      ]
     },
     "execution_count": 142,
     "metadata": {},
     "output_type": "execute_result"
    }
   ],
   "source": [
    "len(rel_scores)/len(genes)\n"
   ]
  },
  {
   "cell_type": "code",
   "execution_count": 149,
   "metadata": {
    "collapsed": true
   },
   "outputs": [],
   "source": [
    "associated = list(rel_scores.keys())"
   ]
  },
  {
   "cell_type": "code",
   "execution_count": 147,
   "metadata": {},
   "outputs": [],
   "source": [
    "with open('bgee_coexp_network.yaml', 'w') as fh:\n",
    "    yaml.dump(associated, fh)"
   ]
  },
  {
   "cell_type": "code",
   "execution_count": 153,
   "metadata": {},
   "outputs": [
    {
     "data": {
      "text/plain": [
       "['ENSG00000124172', 'ENSG00000265638']"
      ]
     },
     "execution_count": 153,
     "metadata": {},
     "output_type": "execute_result"
    }
   ],
   "source": [
    "list(associated[1].split(','))"
   ]
  },
  {
   "cell_type": "code",
   "execution_count": 155,
   "metadata": {},
   "outputs": [],
   "source": [
    "G = nx.Graph()\n",
    "for edge in associated:\n",
    "    ee=edge.split(',')\n",
    "    G.add_edge(ee[0],ee[1])"
   ]
  },
  {
   "cell_type": "code",
   "execution_count": 157,
   "metadata": {},
   "outputs": [
    {
     "name": "stdout",
     "output_type": "stream",
     "text": [
      "217\n"
     ]
    }
   ],
   "source": [
    "print(nx.number_connected_components(G))"
   ]
  },
  {
   "cell_type": "markdown",
   "metadata": {},
   "source": [
    "__WOW__ exatctly one fewer cluster than the Human Protein Atlas notenook."
   ]
  },
  {
   "cell_type": "code",
   "execution_count": 159,
   "metadata": {
    "collapsed": true
   },
   "outputs": [],
   "source": [
    "clusters = nx.connected_components(G)"
   ]
  },
  {
   "cell_type": "code",
   "execution_count": 164,
   "metadata": {},
   "outputs": [],
   "source": [
    "c = next(clusters)"
   ]
  },
  {
   "cell_type": "code",
   "execution_count": 169,
   "metadata": {},
   "outputs": [
    {
     "name": "stdout",
     "output_type": "stream",
     "text": [
      "OR9I1\n",
      "OR10G9\n",
      "OR8D4\n",
      "RNU6-974P\n",
      "OR10N1P\n",
      "OR10G6\n",
      "OR10G4\n",
      "ENSG00000267478\n",
      "OR4K8P\n",
      "TRIM60P5Y\n",
      "MRPS35P3\n",
      "OR4D5\n",
      "ENSG00000255065\n",
      "ENSG00000250503\n",
      "ENSG00000279666\n",
      "ENSG00000256041\n",
      "ENSG00000259507\n"
     ]
    }
   ],
   "source": [
    "for e in c:\n",
    "    if e in ensg_sym:\n",
    "        print(ensg_sym[e])\n",
    "    else: \n",
    "        print(e)"
   ]
  },
  {
   "cell_type": "code",
   "execution_count": 172,
   "metadata": {},
   "outputs": [
    {
     "data": {
      "text/plain": [
       "['ENSG00000172377',\n",
       " 'ENSG00000198674',\n",
       " 'ENSG00000236981',\n",
       " 'ENSG00000224210',\n",
       " 'ENSG00000181518',\n",
       " 'ENSG00000206826',\n",
       " 'ENSG00000213181',\n",
       " 'ENSG00000254737',\n",
       " 'ENSG00000267478',\n",
       " 'ENSG00000266693',\n",
       " 'ENSG00000270192',\n",
       " 'ENSG00000171014',\n",
       " 'ENSG00000250503',\n",
       " 'ENSG00000279666',\n",
       " 'ENSG00000256041',\n",
       " 'ENSG00000259507']"
      ]
     },
     "execution_count": 172,
     "metadata": {},
     "output_type": "execute_result"
    }
   ],
   "source": [
    "G.neighbors('ENSG00000255065')"
   ]
  },
  {
   "cell_type": "code",
   "execution_count": 191,
   "metadata": {},
   "outputs": [],
   "source": [
    "#nx.average_degree_connectivity(G)"
   ]
  },
  {
   "cell_type": "code",
   "execution_count": 192,
   "metadata": {},
   "outputs": [],
   "source": [
    "#nx.average_neighbor_degree(G)"
   ]
  },
  {
   "cell_type": "markdown",
   "metadata": {},
   "source": [
    "keeping only those edges between genes (ENSMBLs)  \n",
    "for which there is no contrary evidence of co-expression  \n",
    "results in an awful lot of edges.  \n",
    "\n",
    "it may be help clarity to filter genes that are ubiquoisly co expressed"
   ]
  },
  {
   "cell_type": "code",
   "execution_count": 189,
   "metadata": {},
   "outputs": [],
   "source": [
    "degree_sequence = sorted(G.degree().items(), key=operator.itemgetter(1),  reverse=True)\n",
    "# sorted(x.items(), key=operator.itemgetter(1))"
   ]
  },
  {
   "cell_type": "code",
   "execution_count": 205,
   "metadata": {},
   "outputs": [],
   "source": [
    "#[d for n,d in degree_sequence]"
   ]
  },
  {
   "cell_type": "code",
   "execution_count": null,
   "metadata": {},
   "outputs": [],
   "source": [
    "# adapted from: \n",
    "# https://networkx.github.io/documentation/stable/auto_examples/drawing/plot_degree_rank.html#sphx-glr-auto-examples-drawing-plot-degree-rank-py\n",
    "plt.loglog([d for n,d in degree_sequence], 'b-', marker='o')\n",
    "plt.title(\"Degree rank plot\")\n",
    "plt.ylabel(\"degree\")\n",
    "plt.xlabel(\"rank\")\n",
    "plt.axes([0.45, 0.45, 0.45, 0.45])\n",
    "Gcc = sorted(nx.connected_component_subgraphs(G), key=len, reverse=True)[0]\n",
    "pos = nx.spring_layout(Gcc)\n",
    "plt.axis('off')\n",
    "nx.draw_networkx_nodes(Gcc, pos, node_size=20)\n",
    "nx.draw_networkx_edges(Gcc, pos, alpha=0.4)\n",
    "\n",
    "plt.show()"
   ]
  }
 ],
 "metadata": {
  "kernelspec": {
   "display_name": "Python 3",
   "language": "python",
   "name": "python3"
  },
  "language_info": {
   "codemirror_mode": {
    "name": "ipython",
    "version": 3
   },
   "file_extension": ".py",
   "mimetype": "text/x-python",
   "name": "python",
   "nbconvert_exporter": "python",
   "pygments_lexer": "ipython3",
   "version": "3.5.2"
  }
 },
 "nbformat": 4,
 "nbformat_minor": 2
}
