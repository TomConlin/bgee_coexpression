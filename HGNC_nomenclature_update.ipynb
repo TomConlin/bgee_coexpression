{
 "cells": [
  {
   "cell_type": "code",
   "execution_count": 1,
   "metadata": {
    "collapsed": true
   },
   "outputs": [],
   "source": [
    "import requests\n",
    "import yaml\n",
    "import re"
   ]
  },
  {
   "cell_type": "markdown",
   "metadata": {},
   "source": [
    "Nomenclature maintaince has to happen somewhere  \n",
    "Either early or late.  \n",
    "Although Ensembl is very lilely to be current     \n",
    "Monarch tends to standardise on NCBIGene IDs for other things \n",
    "\n",
    "[HGNC API doc](https://www.genenames.org/help/rest-web-service-help)  \n",
    "and  \n",
    "[Bulk Download](https://www.genenames.org/cgi-bin/download)\n",
    "\n",
    "in this process, the time to convert ids and symbols is after\n",
    "the set of tissue is associated with a gene  \n",
    "b/w then it is once per profile, instead of per measurement."
   ]
  },
  {
   "cell_type": "code",
   "execution_count": 2,
   "metadata": {
    "collapsed": true
   },
   "outputs": [],
   "source": [
    "# https://www.genenames.org/cgi-bin/download?\n",
    "# col=gd_app_sym\n",
    "# col=gd_pub_eg_id\n",
    "# col=gd_pub_ensembl_id\n",
    "# col=md_eg_id&\n",
    "# col=md_ensembl_id\n",
    "# status=Approved\n",
    "# status_opt=2\n",
    "# order_by=gd_pub_eg_id\n",
    "# format=text\n",
    "# submit=submit\n",
    "\n",
    "HGNCURL='http://www.genenames.org/cgi-bin/download?'\n",
    "\n",
    "query = \"&\".join([\n",
    "    'col=gd_pub_ensembl_id',\n",
    "    'col=md_ensembl_id',\n",
    "    'col=gd_pub_eg_id',\n",
    "    'col=md_eg_id',\n",
    "    'col=gd_app_sym',\n",
    "    'order_by=gd_pub_ensembl_id',\n",
    "    'status=Approved',\n",
    "    'status_opt=2',\n",
    "    'format=text',\n",
    "    'submit=submit'\n",
    "])"
   ]
  },
  {
   "cell_type": "code",
   "execution_count": 3,
   "metadata": {},
   "outputs": [],
   "source": [
    "response = requests.get(HGNCURL + query)"
   ]
  },
  {
   "cell_type": "code",
   "execution_count": 4,
   "metadata": {},
   "outputs": [],
   "source": [
    "if response.status_code == requests.codes.ok:\n",
    "    hgnc = response.text.splitlines()\n",
    "    hgnc.pop(0)  # header\n",
    "else: \n",
    "    print('ERROR ' + response.url + ' returned '+ str(response.status_code))"
   ]
  },
  {
   "cell_type": "code",
   "execution_count": 5,
   "metadata": {},
   "outputs": [],
   "source": [
    "ensg_sym = {}  # in case there are any not mapped to ncbi as well\n",
    "sym_ensg = {}\n",
    "ensg_ncbi = {}\n",
    "ncbi_sym = {}\n",
    "\n",
    "sym_ncbi = {}\n",
    "\n",
    "for line in hgnc:\n",
    "    (ens1, ens2, eg1, eg2, symbol) = re.split(r'\\t',line)\n",
    "    ensg = ens2 if ens1 == '' else ens1\n",
    "    ncbi = eg2 if eg1 == '' else eg1    \n",
    "    if ensg != '': \n",
    "        if symbol != '':\n",
    "            ensg_sym[ensg] = symbol\n",
    "            sym_ensg[symbol] = ensg # to search network for our FA genes\n",
    "        if ncbi != '':\n",
    "            ensg_ncbi[ensg] = ncbi\n",
    "    if ncbi != '':\n",
    "        ncbi_sym[ncbi] = symbol\n",
    "        sym_ncbi[symbol] = ncbi"
   ]
  },
  {
   "cell_type": "code",
   "execution_count": 9,
   "metadata": {},
   "outputs": [
    {
     "name": "stdout",
     "output_type": "stream",
     "text": [
      "ensg_sym 36868\n",
      "ncbi_sym 41155\n",
      "ensg_ncbi 36860\n"
     ]
    }
   ],
   "source": [
    "print('ensg_sym', len(ensg_sym))\n",
    "print('ncbi_sym', len(ncbi_sym)) \n",
    "print('ensg_ncbi', len(ensg_ncbi))"
   ]
  },
  {
   "cell_type": "markdown",
   "metadata": {},
   "source": [
    "There are tens of thousands BGEE measurements which won't map one to one to HGNC symbols.  \n",
    "\n",
    "converting early would \n",
    "    reduce \n",
    "  \n",
    "\n",
    "note:  \n",
    "we can (should) never get an empty gene symbol from the nomenclature athority\n",
    "\n",
    "as there are slightly more ensembl->symbol than ensembl->ncbi  \n",
    " - first try ensembl->symbol   \n",
    " - then ensembl->ncbi->symbol "
   ]
  },
  {
   "cell_type": "code",
   "execution_count": 8,
   "metadata": {
    "collapsed": true
   },
   "outputs": [],
   "source": [
    "with open('ensgid_symbol_hgnc.yaml', 'w') as fh:\n",
    "    yaml.dump(ensg_sym, fh)\n",
    "with open('ncbi_symbol_hgnc.yaml', 'w') as fh:\n",
    "    yaml.dump(ncbi_sym, fh)    \n",
    "with open('ensg_ncbi.yaml', 'w') as fh:\n",
    "    yaml.dump(ensg_ncbi, fh)"
   ]
  },
  {
   "cell_type": "markdown",
   "metadata": {},
   "source": [
    "\n",
    "\n",
    "\n"
   ]
  }
 ],
 "metadata": {
  "kernelspec": {
   "display_name": "Python 3",
   "language": "python",
   "name": "python3"
  },
  "language_info": {
   "codemirror_mode": {
    "name": "ipython",
    "version": 3
   },
   "file_extension": ".py",
   "mimetype": "text/x-python",
   "name": "python",
   "nbconvert_exporter": "python",
   "pygments_lexer": "ipython3",
   "version": "3.5.2"
  }
 },
 "nbformat": 4,
 "nbformat_minor": 2
}
