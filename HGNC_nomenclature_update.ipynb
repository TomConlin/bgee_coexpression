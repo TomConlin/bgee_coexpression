{
 "cells": [
  {
   "cell_type": "markdown",
   "metadata": {},
   "source": [
    "Nomenclature maintaince has to happen somewhere  \n",
    "Either early or late.  \n",
    "Although Ensembl is very lilely to be current     \n",
    "Monarch tends to standardise on NCBIGene IDs for other things \n",
    "\n",
    "[HGNC API doc](https://www.genenames.org/help/rest-web-service-help)  \n",
    "and  \n",
    "[Bulk Download](https://www.genenames.org/cgi-bin/download)\n",
    "\n",
    "in this process, the time to convert ids and symbols is after\n",
    "the set of tissue is associated with a gene  \n",
    "b/w then it is once per profile, instead of per measurement."
   ]
  },
  {
   "cell_type": "code",
   "execution_count": 1,
   "metadata": {
    "collapsed": true
   },
   "outputs": [],
   "source": [
    "# https://www.genenames.org/cgi-bin/download?\n",
    "# col=gd_app_sym\n",
    "# col=gd_pub_eg_id\n",
    "# col=gd_pub_ensembl_id\n",
    "# col=md_eg_id&\n",
    "# col=md_ensembl_id\n",
    "# status=Approved\n",
    "# status_opt=2\n",
    "# order_by=gd_pub_eg_id\n",
    "# format=text\n",
    "# submit=submit\n",
    "\n",
    "HGNCURL='http://www.genenames.org/cgi-bin/download?'\n",
    "\n",
    "query = \"&\".join([\n",
    "    'col=gd_pub_ensembl_id',\n",
    "    'col=md_ensembl_id',\n",
    "    'col=gd_pub_eg_id',\n",
    "    'col=md_eg_id',\n",
    "    'col=gd_app_sym',\n",
    "    'order_by=gd_pub_ensembl_id',\n",
    "    'status=Approved',\n",
    "    'status_opt=2',\n",
    "    'format=text',\n",
    "    'submit=submit'\n",
    "])"
   ]
  },
  {
   "cell_type": "code",
   "execution_count": 2,
   "metadata": {},
   "outputs": [
    {
     "ename": "NameError",
     "evalue": "name 'requests' is not defined",
     "output_type": "error",
     "traceback": [
      "\u001b[0;31m---------------------------------------------------------------------------\u001b[0m",
      "\u001b[0;31mNameError\u001b[0m                                 Traceback (most recent call last)",
      "\u001b[0;32m<ipython-input-2-a8d96b34685b>\u001b[0m in \u001b[0;36m<module>\u001b[0;34m()\u001b[0m\n\u001b[0;32m----> 1\u001b[0;31m \u001b[0mresponse\u001b[0m \u001b[0;34m=\u001b[0m \u001b[0mrequests\u001b[0m\u001b[0;34m.\u001b[0m\u001b[0mget\u001b[0m\u001b[0;34m(\u001b[0m\u001b[0mHGNCURL\u001b[0m \u001b[0;34m+\u001b[0m \u001b[0mquery\u001b[0m\u001b[0;34m)\u001b[0m\u001b[0;34m\u001b[0m\u001b[0m\n\u001b[0m",
      "\u001b[0;31mNameError\u001b[0m: name 'requests' is not defined"
     ]
    }
   ],
   "source": [
    "response = requests.get(HGNCURL + query)"
   ]
  },
  {
   "cell_type": "code",
   "execution_count": 3,
   "metadata": {},
   "outputs": [
    {
     "ename": "NameError",
     "evalue": "name 'response' is not defined",
     "output_type": "error",
     "traceback": [
      "\u001b[0;31m---------------------------------------------------------------------------\u001b[0m",
      "\u001b[0;31mNameError\u001b[0m                                 Traceback (most recent call last)",
      "\u001b[0;32m<ipython-input-3-319f0725a85d>\u001b[0m in \u001b[0;36m<module>\u001b[0;34m()\u001b[0m\n\u001b[0;32m----> 1\u001b[0;31m \u001b[0;32mif\u001b[0m \u001b[0mresponse\u001b[0m\u001b[0;34m.\u001b[0m\u001b[0mstatus_code\u001b[0m \u001b[0;34m==\u001b[0m \u001b[0mrequests\u001b[0m\u001b[0;34m.\u001b[0m\u001b[0mcodes\u001b[0m\u001b[0;34m.\u001b[0m\u001b[0mok\u001b[0m\u001b[0;34m:\u001b[0m\u001b[0;34m\u001b[0m\u001b[0m\n\u001b[0m\u001b[1;32m      2\u001b[0m     \u001b[0mhgnc\u001b[0m \u001b[0;34m=\u001b[0m \u001b[0mresponse\u001b[0m\u001b[0;34m.\u001b[0m\u001b[0mtext\u001b[0m\u001b[0;34m.\u001b[0m\u001b[0msplitlines\u001b[0m\u001b[0;34m(\u001b[0m\u001b[0;34m)\u001b[0m\u001b[0;34m\u001b[0m\u001b[0m\n\u001b[1;32m      3\u001b[0m     \u001b[0mhgnc\u001b[0m\u001b[0;34m.\u001b[0m\u001b[0mpop\u001b[0m\u001b[0;34m(\u001b[0m\u001b[0;36m0\u001b[0m\u001b[0;34m)\u001b[0m  \u001b[0;31m# header\u001b[0m\u001b[0;34m\u001b[0m\u001b[0m\n\u001b[1;32m      4\u001b[0m \u001b[0;32melse\u001b[0m\u001b[0;34m:\u001b[0m\u001b[0;34m\u001b[0m\u001b[0m\n\u001b[1;32m      5\u001b[0m     \u001b[0mprint\u001b[0m\u001b[0;34m(\u001b[0m\u001b[0;34m'ERROR '\u001b[0m \u001b[0;34m+\u001b[0m \u001b[0mresponse\u001b[0m\u001b[0;34m.\u001b[0m\u001b[0murl\u001b[0m \u001b[0;34m+\u001b[0m \u001b[0;34m' returned '\u001b[0m\u001b[0;34m+\u001b[0m \u001b[0mstr\u001b[0m\u001b[0;34m(\u001b[0m\u001b[0mresponse\u001b[0m\u001b[0;34m.\u001b[0m\u001b[0mstatus_code\u001b[0m\u001b[0;34m)\u001b[0m\u001b[0;34m)\u001b[0m\u001b[0;34m\u001b[0m\u001b[0m\n",
      "\u001b[0;31mNameError\u001b[0m: name 'response' is not defined"
     ]
    }
   ],
   "source": [
    "if response.status_code == requests.codes.ok:\n",
    "    hgnc = response.text.splitlines()\n",
    "    hgnc.pop(0)  # header\n",
    "else: \n",
    "    print('ERROR ' + response.url + ' returned '+ str(response.status_code))"
   ]
  },
  {
   "cell_type": "code",
   "execution_count": null,
   "metadata": {
    "collapsed": true
   },
   "outputs": [],
   "source": [
    "ensg_sym = {}  # in case there are any not mapped to ncbi as well\n",
    "sym_ensg = {}\n",
    "ensg_ncbi = {}\n",
    "ncbi_sym = {}\n",
    "\n",
    "sym_ncbi = {}\n",
    "\n",
    "for line in hgnc:\n",
    "    (ens1, ens2, eg1, eg2, symbol) = re.split(r'\\t',line)\n",
    "    ensg = ens2 if ens1 == '' else ens1\n",
    "    ncbi = eg2 if eg1 == '' else eg1    \n",
    "    if ensg != '': \n",
    "        if symbol != '':\n",
    "            ensg_sym[ensg] = symbol\n",
    "            sym_ensg[symbol] = ensg # to search network for our FA genes\n",
    "        if ncbi != '':\n",
    "            ensg_ncbi[ensg] = ncbi\n",
    "    if ncbi != '':\n",
    "        ncbi_sym[ncbi] = symbol\n",
    "        sym_ncbi[symbol] = ncbi"
   ]
  },
  {
   "cell_type": "code",
   "execution_count": null,
   "metadata": {
    "collapsed": true
   },
   "outputs": [],
   "source": [
    "len(ensg_sym)\n",
    "len(ncbi_sym) \n",
    "len(ensg_ncbi)"
   ]
  },
  {
   "cell_type": "code",
   "execution_count": null,
   "metadata": {
    "collapsed": true
   },
   "outputs": [],
   "source": [
    "As feared thare are tens of thousands of these measurements won't map directly back to something we can integreate, but it is still important to process them all because if something comes up as interesting, one could at least go back to the underlying sequence.  \n",
    "\n",
    "note:  \n",
    "we can (should) never get an empty gene symbol from the nomenclature athority\n",
    "\n",
    "as there are slightly more ensembl->symbol than ensembl->ncbi  \n",
    " - first try ensembl->symbol   \n",
    " - then ensembl->ncbi->symbol "
   ]
  },
  {
   "cell_type": "code",
   "execution_count": null,
   "metadata": {
    "collapsed": true
   },
   "outputs": [],
   "source": [
    "with open('ensgid_symbol_hgnc.yaml', 'w') as fh:\n",
    "    yaml.dump(ensg_sym, fh)\n",
    "with open('ncbi_symbol_hgnc.yaml', 'w') as fh:\n",
    "    yaml.dump(ncbi_sym, fh)    \n",
    "with open('ensg_ncbi.yaml', 'w') as fh:\n",
    "    yaml.dump(ensg_ncbi, fh)"
   ]
  },
  {
   "cell_type": "code",
   "execution_count": null,
   "metadata": {
    "collapsed": true
   },
   "outputs": [],
   "source": []
  }
 ],
 "metadata": {
  "kernelspec": {
   "display_name": "Python 3",
   "language": "python",
   "name": "python3"
  },
  "language_info": {
   "codemirror_mode": {
    "name": "ipython",
    "version": 3
   },
   "file_extension": ".py",
   "mimetype": "text/x-python",
   "name": "python",
   "nbconvert_exporter": "python",
   "pygments_lexer": "ipython3",
   "version": "3.5.2"
  }
 },
 "nbformat": 4,
 "nbformat_minor": 2
}
