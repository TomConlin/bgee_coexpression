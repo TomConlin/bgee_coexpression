{
 "cells": [
  {
   "cell_type": "markdown",
   "metadata": {},
   "source": [
    "### Julia implemention of all v.s. all BGEE expression profile matching \n",
    "\n",
    "The python ```BGEE_coexpression_generate-final``` notebook \n",
    "already produces the input and consumes the output\n",
    "so this notenook is pretty minimal."
   ]
  },
  {
   "cell_type": "code",
   "execution_count": 2,
   "metadata": {},
   "outputs": [
    {
     "name": "stderr",
     "output_type": "stream",
     "text": [
      "\u001b[1m\u001b[34mINFO: Recompiling stale cache file /home/tomc/.julia/lib/v0.5/YAML.ji for module YAML.\n",
      "\u001b[0m"
     ]
    }
   ],
   "source": [
    "import YAML"
   ]
  },
  {
   "cell_type": "code",
   "execution_count": 3,
   "metadata": {
    "collapsed": true
   },
   "outputs": [],
   "source": [
    "# sed 's|!!python/object/apply:array.array||g;s|- b||g' gene_tissue_present.yaml | tr '-' ' ' > gene_tissue_present_stripped.yaml\n",
    "#\n",
    "data = YAML.load(open(\"gene_tissue_present_stripped.yaml\"));\n",
    "# damm that yaml load is slow"
   ]
  },
  {
   "cell_type": "code",
   "execution_count": 52,
   "metadata": {
    "collapsed": true
   },
   "outputs": [],
   "source": [
    "# get the input properly typed\n",
    "gene_profile = convert(Dict{String,BitArray}, data);"
   ]
  },
  {
   "cell_type": "code",
   "execution_count": 56,
   "metadata": {
    "collapsed": true
   },
   "outputs": [],
   "source": [
    "# not strictly needed but split off the keys for look\n",
    "genes = collect(keys(gene_profile));"
   ]
  },
  {
   "cell_type": "code",
   "execution_count": 1,
   "metadata": {},
   "outputs": [
    {
     "ename": "LoadError",
     "evalue": "UndefVarError: genes not defined",
     "output_type": "error",
     "traceback": [
      "UndefVarError: genes not defined",
      "",
      " in include_string(::String, ::String) at ./loading.jl:441"
     ]
    }
   ],
   "source": [
    "genlen = length(genes)"
   ]
  },
  {
   "cell_type": "code",
   "execution_count": null,
   "metadata": {
    "collapsed": true
   },
   "outputs": [],
   "source": [
    "genes[73]"
   ]
  },
  {
   "cell_type": "code",
   "execution_count": 58,
   "metadata": {},
   "outputs": [
    {
     "data": {
      "text/plain": [
       "251"
      ]
     },
     "execution_count": 58,
     "metadata": {},
     "output_type": "execute_result"
    }
   ],
   "source": [
    "gene_profile[genes[73]]"
   ]
  },
  {
   "cell_type": "code",
   "execution_count": null,
   "metadata": {
    "collapsed": true
   },
   "outputs": [],
   "source": [
    "sum(gene_profile[genes[73]])"
   ]
  },
  {
   "cell_type": "code",
   "execution_count": 59,
   "metadata": {},
   "outputs": [
    {
     "data": {
      "text/plain": [
       "221"
      ]
     },
     "execution_count": 59,
     "metadata": {},
     "output_type": "execute_result"
    }
   ],
   "source": [
    "sum(gene_profile[genes[73]] & gene_profile[genes[730]])"
   ]
  },
  {
   "cell_type": "code",
   "execution_count": null,
   "metadata": {
    "collapsed": true
   },
   "outputs": [],
   "source": []
  },
  {
   "cell_type": "code",
   "execution_count": 231,
   "metadata": {},
   "outputs": [
    {
     "data": {
      "text/plain": [
       "Dict{Pair{String,String},UInt64} with 0 entries"
      ]
     },
     "execution_count": 231,
     "metadata": {},
     "output_type": "execute_result"
    }
   ],
   "source": [
    "# datastructure for results\n",
    "pairwise_common = Dict{Pair{String, String}, UInt64}()"
   ]
  },
  {
   "cell_type": "code",
   "execution_count": 233,
   "metadata": {},
   "outputs": [
    {
     "name": "stdout",
     "output_type": "stream",
     "text": [
      "1000\t2017-10-11T15:47:18.484 yeilds 123296\n",
      "2000\t2017-10-11T15:49:12.555 yeilds 249514\n",
      "3000\t2017-10-11T15:51:03.843 yeilds 379383\n",
      "4000\t2017-10-11T15:52:54.61 yeilds 474093\n",
      "5000\t2017-10-11T15:54:42.727 yeilds 586516\n",
      "6000\t2017-10-11T15:56:28.341 yeilds 693016\n",
      "7000\t2017-10-11T15:58:13.447 yeilds 804918\n",
      "8000\t2017-10-11T15:59:54.489 yeilds 895589\n",
      "9000\t2017-10-11T16:01:33.862 yeilds 991449\n",
      "10000\t2017-10-11T16:03:12.003 yeilds 1083231\n",
      "11000\t2017-10-11T16:04:50.773 yeilds 1167823\n",
      "12000\t2017-10-11T16:06:25.92 yeilds 1280135\n",
      "13000\t2017-10-11T16:07:57.389 yeilds 1373576\n",
      "14000\t2017-10-11T16:09:29.727 yeilds 1463649\n",
      "15000\t2017-10-11T16:10:58.294 yeilds 1539351\n",
      "16000\t2017-10-11T16:12:24.776 yeilds 1608510\n",
      "17000\t2017-10-11T16:13:49.854 yeilds 1683270\n",
      "18000\t2017-10-11T16:15:12.378 yeilds 1779493\n",
      "19000\t2017-10-11T16:16:35.216 yeilds 1864808\n",
      "20000\t2017-10-11T16:17:53.85 yeilds 1940030\n",
      "21000\t2017-10-11T16:19:11.056 yeilds 2013726\n",
      "22000\t2017-10-11T16:20:28.516 yeilds 2087800\n",
      "23000\t2017-10-11T16:21:40.476 yeilds 2149553\n",
      "24000\t2017-10-11T16:22:52.866 yeilds 2213238\n",
      "25000\t2017-10-11T16:24:03.86 yeilds 2295000\n",
      "26000\t2017-10-11T16:25:10.871 yeilds 2351287\n",
      "27000\t2017-10-11T16:26:16.06 yeilds 2398012\n",
      "28000\t2017-10-11T16:27:21.78 yeilds 2466457\n",
      "29000\t2017-10-11T16:28:22.042 yeilds 2525977\n",
      "30000\t2017-10-11T16:29:22.857 yeilds 2592195\n",
      "31000\t2017-10-11T16:30:21.808 yeilds 2660091\n",
      "32000\t2017-10-11T16:31:16.964 yeilds 2713104\n",
      "33000\t2017-10-11T16:32:12.397 yeilds 2760875\n",
      "34000\t2017-10-11T16:33:05.223 yeilds 2810682\n",
      "35000\t2017-10-11T16:33:55.299 yeilds 2857175\n",
      "36000\t2017-10-11T16:34:43.67 yeilds 2908845\n",
      "37000\t2017-10-11T16:35:28.329 yeilds 2954345\n",
      "38000\t2017-10-11T16:36:13.444 yeilds 2992419\n",
      "39000\t2017-10-11T16:36:54.959 yeilds 3027917\n",
      "40000\t2017-10-11T16:37:34.632 yeilds 3063923\n",
      "41000\t2017-10-11T16:38:12.847 yeilds 3103016\n",
      "42000\t2017-10-11T16:38:49.229 yeilds 3141690\n",
      "43000\t2017-10-11T16:39:23.847 yeilds 3175943\n",
      "44000\t2017-10-11T16:39:54.564 yeilds 3208954\n",
      "45000\t2017-10-11T16:40:26.089 yeilds 3238155\n",
      "46000\t2017-10-11T16:40:53.44 yeilds 3265159\n",
      "47000\t2017-10-11T16:41:18.98 yeilds 3294264\n",
      "48000\t2017-10-11T16:41:42.697 yeilds 3317220\n",
      "49000\t2017-10-11T16:42:02.425 yeilds 3343233\n",
      "50000\t2017-10-11T16:42:22.651 yeilds 3360956\n",
      "51000\t2017-10-11T16:42:38.639 yeilds 3377453\n",
      "52000\t2017-10-11T16:42:55.087 yeilds 3392677\n",
      "53000\t2017-10-11T16:43:06.815 yeilds 3406669\n",
      "54000\t2017-10-11T16:43:16.958 yeilds 3419615\n",
      "55000\t2017-10-11T16:43:23.687 yeilds 3430787\n",
      "56000\t2017-10-11T16:43:30.762 yeilds 3438854\n",
      "57000\t2017-10-11T16:43:33.917 yeilds 3445517\n",
      "58000\t2017-10-11T16:43:38.111 yeilds 3448491\n",
      "59000\t2017-10-11T16:43:38.909 yeilds 3450410\n",
      "59166\t2017-10-11T16:43:38.925 yeilds 3450434\n"
     ]
    }
   ],
   "source": [
    "# allow one mismatch per (half of ffactor) tissues\n",
    "ffactor = 80 # magic to allow one mismatch per \"not too often\"\n",
    "\n",
    "for a in 1:genlen-1\n",
    "    a_name = genes[a]\n",
    "    a_len = sum(gene_profile[a_name])\n",
    "    if 0 == a % 1000\n",
    "        println(a, \"\\t\", now(), \" yeilds \", length(pairwise_common))  \n",
    "        end    \n",
    "    for b in a+1:genlen\n",
    "        together = sum(gene_profile[a_name] & gene_profile[genes[b]])<<1\n",
    "        fugde = floor(together/ffactor)\n",
    "        separate = a_len + sum(gene_profile[genes[b]])\n",
    "        if together > 0 && fugde + together >= separate\n",
    "            pairwise_common[a_name => genes[b]] = together>>1\n",
    "        end\n",
    "    end                \n",
    "end\n",
    "println(genlen,\"\\t\", now(), \" yeilds \", length(pairwise_common))"
   ]
  },
  {
   "cell_type": "code",
   "execution_count": 234,
   "metadata": {},
   "outputs": [
    {
     "data": {
      "text/plain": [
       "3450434"
      ]
     },
     "execution_count": 234,
     "metadata": {},
     "output_type": "execute_result"
    }
   ],
   "source": [
    "length(pairwise_common)"
   ]
  },
  {
   "cell_type": "code",
   "execution_count": 235,
   "metadata": {},
   "outputs": [
    {
     "data": {
      "text/plain": [
       "58.31785146874894"
      ]
     },
     "execution_count": 235,
     "metadata": {},
     "output_type": "execute_result"
    }
   ],
   "source": [
    "# average edges per node\n",
    "length(pairwise_common)/genlen"
   ]
  },
  {
   "cell_type": "code",
   "execution_count": 236,
   "metadata": {
    "collapsed": true
   },
   "outputs": [],
   "source": [
    "fh = open(\"gene_gene_tissues.tab\",\"w\")\n",
    "for key in keys(pairwise_common)\n",
    "    println(fh, key.first,\"\\t\", key.second, \"\\t\", pairwise_common[key])\n",
    "end   \n",
    "close(fh)\n",
    "# blindingly fast compared to processing yaml"
   ]
  }
 ],
 "metadata": {
  "kernelspec": {
   "display_name": "Julia 0.5.0",
   "language": "julia",
   "name": "julia-0.5"
  },
  "language_info": {
   "file_extension": ".jl",
   "mimetype": "application/julia",
   "name": "julia",
   "version": "0.5.0"
  }
 },
 "nbformat": 4,
 "nbformat_minor": 2
}
